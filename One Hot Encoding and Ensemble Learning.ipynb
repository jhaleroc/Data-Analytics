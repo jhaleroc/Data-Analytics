{
 "cells": [
  {
   "cell_type": "code",
   "execution_count": 1,
   "metadata": {},
   "outputs": [],
   "source": [
    "from __future__ import division, print_function, unicode_literals\n",
    "# Common imports\n",
    "import numpy as np\n",
    "import os\n",
    "\n",
    "# agar outputnya selalu sama setiap dilakukan run kernel\n",
    "np.random.seed(42)\n",
    "\n",
    "# agar tidak mengeluarkan warning\n",
    "import warnings\n",
    "warnings.filterwarnings(action=\"ignore\", message=\"^internal gelsd\")\n",
    "\n",
    "# To plot pretty figures\n",
    "%matplotlib inline\n",
    "import matplotlib as mpl\n",
    "import matplotlib.pyplot as plt\n",
    "mpl.rc('axes', labelsize=14)\n",
    "mpl.rc('xtick', labelsize=12)\n",
    "mpl.rc('ytick', labelsize=12)\n",
    "\n",
    "# Where to save the figures\n",
    "PROJECT_ROOT_DIR = \".\"\n",
    "CHAPTER_ID = \"tugas_akhir3\"\n",
    "IMAGES_PATH = os.path.join(PROJECT_ROOT_DIR, \"images\", CHAPTER_ID)\n",
    "\n",
    "def save_fig(fig_id, tight_layout=True, fig_extension=\"png\", resolution=300):\n",
    "    path = os.path.join(IMAGES_PATH, fig_id + \".\" + fig_extension)\n",
    "    print(\"Saving figure\", fig_id)\n",
    "    if tight_layout:\n",
    "        plt.tight_layout()\n",
    "    plt.savefig(path, format=fig_extension, dpi=resolution)\n",
    "\n"
   ]
  },
  {
   "cell_type": "code",
   "execution_count": 2,
   "metadata": {},
   "outputs": [],
   "source": [
    "%matplotlib inline\n",
    "import matplotlib.pyplot as plt\n",
    "import pandas as pd\n",
    "import numpy as np\n",
    "#load the data\n",
    "dt = pd.read_csv('data lengkap kai untuk ta.csv')\n",
    "#dataset_test = pd.read_csv('el4233-2018-2019-02-01-test.csv')\n",
    "#data lengkap kai untuk ta.csv\n",
    "#Keterlambatan seluruh kereta - Dari KAI - 12 Kereta.csv"
   ]
  },
  {
   "cell_type": "code",
   "execution_count": 3,
   "metadata": {},
   "outputs": [
    {
     "data": {
      "text/html": [
       "<div>\n",
       "<style scoped>\n",
       "    .dataframe tbody tr th:only-of-type {\n",
       "        vertical-align: middle;\n",
       "    }\n",
       "\n",
       "    .dataframe tbody tr th {\n",
       "        vertical-align: top;\n",
       "    }\n",
       "\n",
       "    .dataframe thead th {\n",
       "        text-align: right;\n",
       "    }\n",
       "</style>\n",
       "<table border=\"1\" class=\"dataframe\">\n",
       "  <thead>\n",
       "    <tr style=\"text-align: right;\">\n",
       "      <th></th>\n",
       "      <th># No</th>\n",
       "      <th>Tanggal</th>\n",
       "      <th>Penyebab</th>\n",
       "      <th>Akibat</th>\n",
       "      <th>Lokasi_1</th>\n",
       "      <th>Lokasi_2</th>\n",
       "      <th>Andil</th>\n",
       "      <th>Bulan Ke</th>\n",
       "      <th>Hari Ke</th>\n",
       "      <th>Nama Hari</th>\n",
       "      <th>Minggu Ke</th>\n",
       "      <th>Andil2</th>\n",
       "      <th>Andil3</th>\n",
       "      <th>No Kereta</th>\n",
       "      <th>Andil Absolut</th>\n",
       "    </tr>\n",
       "  </thead>\n",
       "  <tbody>\n",
       "    <tr>\n",
       "      <td>0</td>\n",
       "      <td>1</td>\n",
       "      <td>2/2/2019 00:00</td>\n",
       "      <td>ANTRIAN TIKET</td>\n",
       "      <td>LAMBAT DI STASIUN AWAL</td>\n",
       "      <td>Purwakarta</td>\n",
       "      <td>Purwakarta</td>\n",
       "      <td>25</td>\n",
       "      <td>2</td>\n",
       "      <td>2</td>\n",
       "      <td>5</td>\n",
       "      <td>5</td>\n",
       "      <td>25</td>\n",
       "      <td>25</td>\n",
       "      <td>396</td>\n",
       "      <td>25</td>\n",
       "    </tr>\n",
       "    <tr>\n",
       "      <td>1</td>\n",
       "      <td>2</td>\n",
       "      <td>2/2/2019 00:00</td>\n",
       "      <td>TAKTIS MASINIS</td>\n",
       "      <td>MENGURANGI KELAMBATAN</td>\n",
       "      <td>Sukatani</td>\n",
       "      <td>Plered</td>\n",
       "      <td>-5</td>\n",
       "      <td>2</td>\n",
       "      <td>2</td>\n",
       "      <td>5</td>\n",
       "      <td>5</td>\n",
       "      <td>20</td>\n",
       "      <td>25</td>\n",
       "      <td>396</td>\n",
       "      <td>5</td>\n",
       "    </tr>\n",
       "    <tr>\n",
       "      <td>2</td>\n",
       "      <td>3</td>\n",
       "      <td>2/2/2019 00:00</td>\n",
       "      <td>TAKTIS MASINIS</td>\n",
       "      <td>MENGURANGI KELAMBATAN</td>\n",
       "      <td>Cisomang</td>\n",
       "      <td>Cikadongdong</td>\n",
       "      <td>-4</td>\n",
       "      <td>2</td>\n",
       "      <td>2</td>\n",
       "      <td>5</td>\n",
       "      <td>5</td>\n",
       "      <td>16</td>\n",
       "      <td>20</td>\n",
       "      <td>396</td>\n",
       "      <td>4</td>\n",
       "    </tr>\n",
       "    <tr>\n",
       "      <td>3</td>\n",
       "      <td>4</td>\n",
       "      <td>2/2/2019 00:00</td>\n",
       "      <td>TAKTIS PPKA</td>\n",
       "      <td>MENGURANGI KELAMBATAN</td>\n",
       "      <td>Cikadongdong</td>\n",
       "      <td>Cikadongdong</td>\n",
       "      <td>-4</td>\n",
       "      <td>2</td>\n",
       "      <td>2</td>\n",
       "      <td>5</td>\n",
       "      <td>5</td>\n",
       "      <td>12</td>\n",
       "      <td>16</td>\n",
       "      <td>396</td>\n",
       "      <td>4</td>\n",
       "    </tr>\n",
       "    <tr>\n",
       "      <td>4</td>\n",
       "      <td>5</td>\n",
       "      <td>2/2/2019 00:00</td>\n",
       "      <td>PEMASANGAN TASPAT (PRASARANA)</td>\n",
       "      <td>PEMASANGAN TASPAT</td>\n",
       "      <td>Cikadongdong</td>\n",
       "      <td>Rendeh</td>\n",
       "      <td>1</td>\n",
       "      <td>2</td>\n",
       "      <td>2</td>\n",
       "      <td>5</td>\n",
       "      <td>5</td>\n",
       "      <td>13</td>\n",
       "      <td>12</td>\n",
       "      <td>396</td>\n",
       "      <td>1</td>\n",
       "    </tr>\n",
       "  </tbody>\n",
       "</table>\n",
       "</div>"
      ],
      "text/plain": [
       "   # No         Tanggal                       Penyebab  \\\n",
       "0     1  2/2/2019 00:00                  ANTRIAN TIKET   \n",
       "1     2  2/2/2019 00:00                 TAKTIS MASINIS   \n",
       "2     3  2/2/2019 00:00                 TAKTIS MASINIS   \n",
       "3     4  2/2/2019 00:00                    TAKTIS PPKA   \n",
       "4     5  2/2/2019 00:00  PEMASANGAN TASPAT (PRASARANA)   \n",
       "\n",
       "                   Akibat      Lokasi_1      Lokasi_2  Andil  Bulan Ke  \\\n",
       "0  LAMBAT DI STASIUN AWAL    Purwakarta    Purwakarta     25         2   \n",
       "1   MENGURANGI KELAMBATAN      Sukatani        Plered     -5         2   \n",
       "2   MENGURANGI KELAMBATAN      Cisomang  Cikadongdong     -4         2   \n",
       "3   MENGURANGI KELAMBATAN  Cikadongdong  Cikadongdong     -4         2   \n",
       "4       PEMASANGAN TASPAT  Cikadongdong        Rendeh      1         2   \n",
       "\n",
       "   Hari Ke  Nama Hari  Minggu Ke  Andil2  Andil3  No Kereta  Andil Absolut  \n",
       "0        2          5          5      25      25        396             25  \n",
       "1        2          5          5      20      25        396              5  \n",
       "2        2          5          5      16      20        396              4  \n",
       "3        2          5          5      12      16        396              4  \n",
       "4        2          5          5      13      12        396              1  "
      ]
     },
     "execution_count": 3,
     "metadata": {},
     "output_type": "execute_result"
    }
   ],
   "source": [
    "dt.head()"
   ]
  },
  {
   "cell_type": "code",
   "execution_count": 4,
   "metadata": {},
   "outputs": [
    {
     "name": "stderr",
     "output_type": "stream",
     "text": [
      "C:\\ProgramData\\Anaconda3\\lib\\site-packages\\ipykernel_launcher.py:4: SettingWithCopyWarning: \n",
      "A value is trying to be set on a copy of a slice from a DataFrame\n",
      "\n",
      "See the caveats in the documentation: http://pandas.pydata.org/pandas-docs/stable/user_guide/indexing.html#returning-a-view-versus-a-copy\n",
      "  after removing the cwd from sys.path.\n"
     ]
    }
   ],
   "source": [
    "z=0\n",
    "while (z < len(dt)):\n",
    "    if(dt.Lokasi_1[z] == '-'):\n",
    "        dt.Lokasi_1[z] = dt.Lokasi_2[z]\n",
    "    z+=1"
   ]
  },
  {
   "cell_type": "code",
   "execution_count": 5,
   "metadata": {},
   "outputs": [
    {
     "data": {
      "text/plain": [
       "# No                                   99\n",
       "Tanggal                   2/15/2019 00:00\n",
       "Penyebab           PEMINDAHAN PERSILANGAN\n",
       "Akibat           LAMBAT DI STASIUN ANTARA\n",
       "Lokasi_1                         Sukatani\n",
       "Lokasi_2                         Sukatani\n",
       "Andil                                   8\n",
       "Bulan Ke                                2\n",
       "Hari Ke                                15\n",
       "Nama Hari                               4\n",
       "Minggu Ke                               7\n",
       "Andil2                                  8\n",
       "Andil3                                  8\n",
       "No Kereta                             396\n",
       "Andil Absolut                           8\n",
       "Name: 98, dtype: object"
      ]
     },
     "execution_count": 5,
     "metadata": {},
     "output_type": "execute_result"
    }
   ],
   "source": [
    "dt.iloc[98]"
   ]
  },
  {
   "cell_type": "code",
   "execution_count": 6,
   "metadata": {},
   "outputs": [],
   "source": [
    "\n",
    "asd = np.savetxt(\"cekdata.csv\", dt, delimiter=\",\", fmt=\"%s\", header=\"Penyebab, Akibat, Lokasi_1,Lokasi_2,Andil,Bulan Ke,Minggu ke,No Kereta,Prediksi\")\n",
    "asd"
   ]
  },
  {
   "cell_type": "code",
   "execution_count": 7,
   "metadata": {},
   "outputs": [
    {
     "data": {
      "text/html": [
       "<div>\n",
       "<style scoped>\n",
       "    .dataframe tbody tr th:only-of-type {\n",
       "        vertical-align: middle;\n",
       "    }\n",
       "\n",
       "    .dataframe tbody tr th {\n",
       "        vertical-align: top;\n",
       "    }\n",
       "\n",
       "    .dataframe thead th {\n",
       "        text-align: right;\n",
       "    }\n",
       "</style>\n",
       "<table border=\"1\" class=\"dataframe\">\n",
       "  <thead>\n",
       "    <tr style=\"text-align: right;\">\n",
       "      <th></th>\n",
       "      <th># No</th>\n",
       "      <th>Andil</th>\n",
       "      <th>Bulan Ke</th>\n",
       "      <th>Hari Ke</th>\n",
       "      <th>Nama Hari</th>\n",
       "      <th>Minggu Ke</th>\n",
       "      <th>Andil2</th>\n",
       "      <th>Andil3</th>\n",
       "      <th>No Kereta</th>\n",
       "      <th>Andil Absolut</th>\n",
       "    </tr>\n",
       "  </thead>\n",
       "  <tbody>\n",
       "    <tr>\n",
       "      <td>count</td>\n",
       "      <td>707.000000</td>\n",
       "      <td>707.000000</td>\n",
       "      <td>707.000000</td>\n",
       "      <td>707.000000</td>\n",
       "      <td>707.000000</td>\n",
       "      <td>707.000000</td>\n",
       "      <td>707.000000</td>\n",
       "      <td>707.000000</td>\n",
       "      <td>707.000000</td>\n",
       "      <td>707.000000</td>\n",
       "    </tr>\n",
       "    <tr>\n",
       "      <td>mean</td>\n",
       "      <td>354.000000</td>\n",
       "      <td>2.578501</td>\n",
       "      <td>2.519095</td>\n",
       "      <td>13.200849</td>\n",
       "      <td>3.230552</td>\n",
       "      <td>8.929279</td>\n",
       "      <td>17.506365</td>\n",
       "      <td>15.442716</td>\n",
       "      <td>395.500707</td>\n",
       "      <td>5.571429</td>\n",
       "    </tr>\n",
       "    <tr>\n",
       "      <td>std</td>\n",
       "      <td>204.237607</td>\n",
       "      <td>7.948345</td>\n",
       "      <td>0.499989</td>\n",
       "      <td>7.985777</td>\n",
       "      <td>1.989142</td>\n",
       "      <td>2.281364</td>\n",
       "      <td>14.755069</td>\n",
       "      <td>14.688186</td>\n",
       "      <td>0.500353</td>\n",
       "      <td>6.224909</td>\n",
       "    </tr>\n",
       "    <tr>\n",
       "      <td>min</td>\n",
       "      <td>1.000000</td>\n",
       "      <td>-25.000000</td>\n",
       "      <td>2.000000</td>\n",
       "      <td>1.000000</td>\n",
       "      <td>0.000000</td>\n",
       "      <td>5.000000</td>\n",
       "      <td>-4.000000</td>\n",
       "      <td>-4.000000</td>\n",
       "      <td>395.000000</td>\n",
       "      <td>1.000000</td>\n",
       "    </tr>\n",
       "    <tr>\n",
       "      <td>25%</td>\n",
       "      <td>177.500000</td>\n",
       "      <td>0.000000</td>\n",
       "      <td>2.000000</td>\n",
       "      <td>7.000000</td>\n",
       "      <td>1.000000</td>\n",
       "      <td>7.000000</td>\n",
       "      <td>5.000000</td>\n",
       "      <td>4.000000</td>\n",
       "      <td>395.000000</td>\n",
       "      <td>1.500000</td>\n",
       "    </tr>\n",
       "    <tr>\n",
       "      <td>50%</td>\n",
       "      <td>354.000000</td>\n",
       "      <td>2.000000</td>\n",
       "      <td>3.000000</td>\n",
       "      <td>12.000000</td>\n",
       "      <td>4.000000</td>\n",
       "      <td>9.000000</td>\n",
       "      <td>14.000000</td>\n",
       "      <td>10.000000</td>\n",
       "      <td>396.000000</td>\n",
       "      <td>2.000000</td>\n",
       "    </tr>\n",
       "    <tr>\n",
       "      <td>75%</td>\n",
       "      <td>530.500000</td>\n",
       "      <td>4.500000</td>\n",
       "      <td>3.000000</td>\n",
       "      <td>20.000000</td>\n",
       "      <td>5.000000</td>\n",
       "      <td>11.000000</td>\n",
       "      <td>27.000000</td>\n",
       "      <td>22.000000</td>\n",
       "      <td>396.000000</td>\n",
       "      <td>8.000000</td>\n",
       "    </tr>\n",
       "    <tr>\n",
       "      <td>max</td>\n",
       "      <td>707.000000</td>\n",
       "      <td>41.000000</td>\n",
       "      <td>3.000000</td>\n",
       "      <td>31.000000</td>\n",
       "      <td>6.000000</td>\n",
       "      <td>13.000000</td>\n",
       "      <td>71.000000</td>\n",
       "      <td>71.000000</td>\n",
       "      <td>396.000000</td>\n",
       "      <td>41.000000</td>\n",
       "    </tr>\n",
       "  </tbody>\n",
       "</table>\n",
       "</div>"
      ],
      "text/plain": [
       "             # No       Andil    Bulan Ke     Hari Ke   Nama Hari   Minggu Ke  \\\n",
       "count  707.000000  707.000000  707.000000  707.000000  707.000000  707.000000   \n",
       "mean   354.000000    2.578501    2.519095   13.200849    3.230552    8.929279   \n",
       "std    204.237607    7.948345    0.499989    7.985777    1.989142    2.281364   \n",
       "min      1.000000  -25.000000    2.000000    1.000000    0.000000    5.000000   \n",
       "25%    177.500000    0.000000    2.000000    7.000000    1.000000    7.000000   \n",
       "50%    354.000000    2.000000    3.000000   12.000000    4.000000    9.000000   \n",
       "75%    530.500000    4.500000    3.000000   20.000000    5.000000   11.000000   \n",
       "max    707.000000   41.000000    3.000000   31.000000    6.000000   13.000000   \n",
       "\n",
       "           Andil2      Andil3   No Kereta  Andil Absolut  \n",
       "count  707.000000  707.000000  707.000000     707.000000  \n",
       "mean    17.506365   15.442716  395.500707       5.571429  \n",
       "std     14.755069   14.688186    0.500353       6.224909  \n",
       "min     -4.000000   -4.000000  395.000000       1.000000  \n",
       "25%      5.000000    4.000000  395.000000       1.500000  \n",
       "50%     14.000000   10.000000  396.000000       2.000000  \n",
       "75%     27.000000   22.000000  396.000000       8.000000  \n",
       "max     71.000000   71.000000  396.000000      41.000000  "
      ]
     },
     "execution_count": 7,
     "metadata": {},
     "output_type": "execute_result"
    }
   ],
   "source": [
    "dt.describe()"
   ]
  },
  {
   "cell_type": "code",
   "execution_count": 8,
   "metadata": {},
   "outputs": [
    {
     "data": {
      "text/html": [
       "<div>\n",
       "<style scoped>\n",
       "    .dataframe tbody tr th:only-of-type {\n",
       "        vertical-align: middle;\n",
       "    }\n",
       "\n",
       "    .dataframe tbody tr th {\n",
       "        vertical-align: top;\n",
       "    }\n",
       "\n",
       "    .dataframe thead th {\n",
       "        text-align: right;\n",
       "    }\n",
       "</style>\n",
       "<table border=\"1\" class=\"dataframe\">\n",
       "  <thead>\n",
       "    <tr style=\"text-align: right;\">\n",
       "      <th></th>\n",
       "      <th>Penyebab</th>\n",
       "      <th>Akibat</th>\n",
       "      <th>Lokasi_1</th>\n",
       "      <th>Lokasi_2</th>\n",
       "      <th>Andil</th>\n",
       "      <th>Bulan Ke</th>\n",
       "      <th>Nama Hari</th>\n",
       "      <th>Minggu Ke</th>\n",
       "      <th>No Kereta</th>\n",
       "    </tr>\n",
       "  </thead>\n",
       "  <tbody>\n",
       "    <tr>\n",
       "      <td>0</td>\n",
       "      <td>ANTRIAN TIKET</td>\n",
       "      <td>LAMBAT DI STASIUN AWAL</td>\n",
       "      <td>Purwakarta</td>\n",
       "      <td>Purwakarta</td>\n",
       "      <td>25</td>\n",
       "      <td>2</td>\n",
       "      <td>5</td>\n",
       "      <td>5</td>\n",
       "      <td>396</td>\n",
       "    </tr>\n",
       "    <tr>\n",
       "      <td>1</td>\n",
       "      <td>TAKTIS MASINIS</td>\n",
       "      <td>MENGURANGI KELAMBATAN</td>\n",
       "      <td>Sukatani</td>\n",
       "      <td>Plered</td>\n",
       "      <td>-5</td>\n",
       "      <td>2</td>\n",
       "      <td>5</td>\n",
       "      <td>5</td>\n",
       "      <td>396</td>\n",
       "    </tr>\n",
       "    <tr>\n",
       "      <td>2</td>\n",
       "      <td>TAKTIS MASINIS</td>\n",
       "      <td>MENGURANGI KELAMBATAN</td>\n",
       "      <td>Cisomang</td>\n",
       "      <td>Cikadongdong</td>\n",
       "      <td>-4</td>\n",
       "      <td>2</td>\n",
       "      <td>5</td>\n",
       "      <td>5</td>\n",
       "      <td>396</td>\n",
       "    </tr>\n",
       "    <tr>\n",
       "      <td>3</td>\n",
       "      <td>TAKTIS PPKA</td>\n",
       "      <td>MENGURANGI KELAMBATAN</td>\n",
       "      <td>Cikadongdong</td>\n",
       "      <td>Cikadongdong</td>\n",
       "      <td>-4</td>\n",
       "      <td>2</td>\n",
       "      <td>5</td>\n",
       "      <td>5</td>\n",
       "      <td>396</td>\n",
       "    </tr>\n",
       "    <tr>\n",
       "      <td>4</td>\n",
       "      <td>PEMASANGAN TASPAT (PRASARANA)</td>\n",
       "      <td>PEMASANGAN TASPAT</td>\n",
       "      <td>Cikadongdong</td>\n",
       "      <td>Rendeh</td>\n",
       "      <td>1</td>\n",
       "      <td>2</td>\n",
       "      <td>5</td>\n",
       "      <td>5</td>\n",
       "      <td>396</td>\n",
       "    </tr>\n",
       "  </tbody>\n",
       "</table>\n",
       "</div>"
      ],
      "text/plain": [
       "                        Penyebab                  Akibat      Lokasi_1  \\\n",
       "0                  ANTRIAN TIKET  LAMBAT DI STASIUN AWAL    Purwakarta   \n",
       "1                 TAKTIS MASINIS   MENGURANGI KELAMBATAN      Sukatani   \n",
       "2                 TAKTIS MASINIS   MENGURANGI KELAMBATAN      Cisomang   \n",
       "3                    TAKTIS PPKA   MENGURANGI KELAMBATAN  Cikadongdong   \n",
       "4  PEMASANGAN TASPAT (PRASARANA)       PEMASANGAN TASPAT  Cikadongdong   \n",
       "\n",
       "       Lokasi_2  Andil  Bulan Ke  Nama Hari  Minggu Ke  No Kereta  \n",
       "0    Purwakarta     25         2          5          5        396  \n",
       "1        Plered     -5         2          5          5        396  \n",
       "2  Cikadongdong     -4         2          5          5        396  \n",
       "3  Cikadongdong     -4         2          5          5        396  \n",
       "4        Rendeh      1         2          5          5        396  "
      ]
     },
     "execution_count": 8,
     "metadata": {},
     "output_type": "execute_result"
    }
   ],
   "source": [
    "df = dt.drop(['Tanggal', 'Hari Ke','# No', 'Andil3', 'Andil2', 'Andil Absolut'], axis=1)\n",
    "df.head()"
   ]
  },
  {
   "cell_type": "code",
   "execution_count": 9,
   "metadata": {},
   "outputs": [
    {
     "data": {
      "text/html": [
       "<div>\n",
       "<style scoped>\n",
       "    .dataframe tbody tr th:only-of-type {\n",
       "        vertical-align: middle;\n",
       "    }\n",
       "\n",
       "    .dataframe tbody tr th {\n",
       "        vertical-align: top;\n",
       "    }\n",
       "\n",
       "    .dataframe thead th {\n",
       "        text-align: right;\n",
       "    }\n",
       "</style>\n",
       "<table border=\"1\" class=\"dataframe\">\n",
       "  <thead>\n",
       "    <tr style=\"text-align: right;\">\n",
       "      <th></th>\n",
       "      <th>Andil</th>\n",
       "      <th>Bulan Ke</th>\n",
       "      <th>Nama Hari</th>\n",
       "      <th>Minggu Ke</th>\n",
       "      <th>No Kereta</th>\n",
       "    </tr>\n",
       "  </thead>\n",
       "  <tbody>\n",
       "    <tr>\n",
       "      <td>count</td>\n",
       "      <td>707.000000</td>\n",
       "      <td>707.000000</td>\n",
       "      <td>707.000000</td>\n",
       "      <td>707.000000</td>\n",
       "      <td>707.000000</td>\n",
       "    </tr>\n",
       "    <tr>\n",
       "      <td>mean</td>\n",
       "      <td>2.578501</td>\n",
       "      <td>2.519095</td>\n",
       "      <td>3.230552</td>\n",
       "      <td>8.929279</td>\n",
       "      <td>395.500707</td>\n",
       "    </tr>\n",
       "    <tr>\n",
       "      <td>std</td>\n",
       "      <td>7.948345</td>\n",
       "      <td>0.499989</td>\n",
       "      <td>1.989142</td>\n",
       "      <td>2.281364</td>\n",
       "      <td>0.500353</td>\n",
       "    </tr>\n",
       "    <tr>\n",
       "      <td>min</td>\n",
       "      <td>-25.000000</td>\n",
       "      <td>2.000000</td>\n",
       "      <td>0.000000</td>\n",
       "      <td>5.000000</td>\n",
       "      <td>395.000000</td>\n",
       "    </tr>\n",
       "    <tr>\n",
       "      <td>25%</td>\n",
       "      <td>0.000000</td>\n",
       "      <td>2.000000</td>\n",
       "      <td>1.000000</td>\n",
       "      <td>7.000000</td>\n",
       "      <td>395.000000</td>\n",
       "    </tr>\n",
       "    <tr>\n",
       "      <td>50%</td>\n",
       "      <td>2.000000</td>\n",
       "      <td>3.000000</td>\n",
       "      <td>4.000000</td>\n",
       "      <td>9.000000</td>\n",
       "      <td>396.000000</td>\n",
       "    </tr>\n",
       "    <tr>\n",
       "      <td>75%</td>\n",
       "      <td>4.500000</td>\n",
       "      <td>3.000000</td>\n",
       "      <td>5.000000</td>\n",
       "      <td>11.000000</td>\n",
       "      <td>396.000000</td>\n",
       "    </tr>\n",
       "    <tr>\n",
       "      <td>max</td>\n",
       "      <td>41.000000</td>\n",
       "      <td>3.000000</td>\n",
       "      <td>6.000000</td>\n",
       "      <td>13.000000</td>\n",
       "      <td>396.000000</td>\n",
       "    </tr>\n",
       "  </tbody>\n",
       "</table>\n",
       "</div>"
      ],
      "text/plain": [
       "            Andil    Bulan Ke   Nama Hari   Minggu Ke   No Kereta\n",
       "count  707.000000  707.000000  707.000000  707.000000  707.000000\n",
       "mean     2.578501    2.519095    3.230552    8.929279  395.500707\n",
       "std      7.948345    0.499989    1.989142    2.281364    0.500353\n",
       "min    -25.000000    2.000000    0.000000    5.000000  395.000000\n",
       "25%      0.000000    2.000000    1.000000    7.000000  395.000000\n",
       "50%      2.000000    3.000000    4.000000    9.000000  396.000000\n",
       "75%      4.500000    3.000000    5.000000   11.000000  396.000000\n",
       "max     41.000000    3.000000    6.000000   13.000000  396.000000"
      ]
     },
     "execution_count": 9,
     "metadata": {},
     "output_type": "execute_result"
    }
   ],
   "source": [
    "df_c = df.dropna()\n",
    "df_c.describe()"
   ]
  },
  {
   "cell_type": "code",
   "execution_count": 10,
   "metadata": {},
   "outputs": [],
   "source": [
    "from sklearn.model_selection import cross_val_score\n",
    "from sklearn.model_selection import train_test_split\n",
    "\n",
    "train_set, test_set = train_test_split(df_c, test_size=0.2, random_state=42)\n",
    "\n",
    "x_train = train_set.drop('Andil', axis = 1)\n",
    "y_train = train_set.Andil\n",
    "\n",
    "x_test = test_set.drop('Andil', axis = 1)\n",
    "y_test = test_set.Andil"
   ]
  },
  {
   "cell_type": "code",
   "execution_count": 11,
   "metadata": {
    "scrolled": true
   },
   "outputs": [
    {
     "data": {
      "text/html": [
       "<div>\n",
       "<style scoped>\n",
       "    .dataframe tbody tr th:only-of-type {\n",
       "        vertical-align: middle;\n",
       "    }\n",
       "\n",
       "    .dataframe tbody tr th {\n",
       "        vertical-align: top;\n",
       "    }\n",
       "\n",
       "    .dataframe thead th {\n",
       "        text-align: right;\n",
       "    }\n",
       "</style>\n",
       "<table border=\"1\" class=\"dataframe\">\n",
       "  <thead>\n",
       "    <tr style=\"text-align: right;\">\n",
       "      <th></th>\n",
       "      <th>Penyebab</th>\n",
       "      <th>Akibat</th>\n",
       "      <th>Lokasi_1</th>\n",
       "      <th>Lokasi_2</th>\n",
       "      <th>Bulan Ke</th>\n",
       "      <th>Nama Hari</th>\n",
       "      <th>Minggu Ke</th>\n",
       "      <th>No Kereta</th>\n",
       "    </tr>\n",
       "  </thead>\n",
       "  <tbody>\n",
       "    <tr>\n",
       "      <td>155</td>\n",
       "      <td>GEOMETRI (JJ)</td>\n",
       "      <td>PEMASANGAN TASPAT</td>\n",
       "      <td>Sasaksaat</td>\n",
       "      <td>Cilame</td>\n",
       "      <td>2</td>\n",
       "      <td>0</td>\n",
       "      <td>9</td>\n",
       "      <td>396</td>\n",
       "    </tr>\n",
       "    <tr>\n",
       "      <td>210</td>\n",
       "      <td>TAKTIS PPKA</td>\n",
       "      <td>MENGURANGI KELAMBATAN</td>\n",
       "      <td>Gedebage</td>\n",
       "      <td>Gedebage</td>\n",
       "      <td>3</td>\n",
       "      <td>2</td>\n",
       "      <td>10</td>\n",
       "      <td>396</td>\n",
       "    </tr>\n",
       "    <tr>\n",
       "      <td>260</td>\n",
       "      <td>PEMASANGAN TASPAT (PRASARANA)</td>\n",
       "      <td>PEMASANGAN TASPAT</td>\n",
       "      <td>Andir</td>\n",
       "      <td>Bandung</td>\n",
       "      <td>3</td>\n",
       "      <td>1</td>\n",
       "      <td>11</td>\n",
       "      <td>396</td>\n",
       "    </tr>\n",
       "    <tr>\n",
       "      <td>425</td>\n",
       "      <td>PEMASANGAN TASPAT (PRASARANA)</td>\n",
       "      <td>PEMASANGAN TASPAT</td>\n",
       "      <td>Cikudapateuh</td>\n",
       "      <td>Bandung</td>\n",
       "      <td>2</td>\n",
       "      <td>1</td>\n",
       "      <td>7</td>\n",
       "      <td>395</td>\n",
       "    </tr>\n",
       "    <tr>\n",
       "      <td>594</td>\n",
       "      <td>TAKTIS MASINIS</td>\n",
       "      <td>MENGURANGI KELAMBATAN</td>\n",
       "      <td>Plered</td>\n",
       "      <td>Sukatani</td>\n",
       "      <td>3</td>\n",
       "      <td>4</td>\n",
       "      <td>10</td>\n",
       "      <td>395</td>\n",
       "    </tr>\n",
       "  </tbody>\n",
       "</table>\n",
       "</div>"
      ],
      "text/plain": [
       "                          Penyebab                 Akibat      Lokasi_1  \\\n",
       "155                  GEOMETRI (JJ)      PEMASANGAN TASPAT     Sasaksaat   \n",
       "210                    TAKTIS PPKA  MENGURANGI KELAMBATAN      Gedebage   \n",
       "260  PEMASANGAN TASPAT (PRASARANA)      PEMASANGAN TASPAT         Andir   \n",
       "425  PEMASANGAN TASPAT (PRASARANA)      PEMASANGAN TASPAT  Cikudapateuh   \n",
       "594                 TAKTIS MASINIS  MENGURANGI KELAMBATAN        Plered   \n",
       "\n",
       "     Lokasi_2  Bulan Ke  Nama Hari  Minggu Ke  No Kereta  \n",
       "155    Cilame         2          0          9        396  \n",
       "210  Gedebage         3          2         10        396  \n",
       "260   Bandung         3          1         11        396  \n",
       "425   Bandung         2          1          7        395  \n",
       "594  Sukatani         3          4         10        395  "
      ]
     },
     "execution_count": 11,
     "metadata": {},
     "output_type": "execute_result"
    }
   ],
   "source": [
    "x_train.head()"
   ]
  },
  {
   "cell_type": "code",
   "execution_count": 12,
   "metadata": {},
   "outputs": [],
   "source": [
    "from sklearn.compose import make_column_transformer\n",
    "from sklearn.preprocessing import OneHotEncoder\n",
    "column_trans = make_column_transformer(\n",
    "    (OneHotEncoder(sparse = False,handle_unknown='ignore'), \n",
    "     ['Lokasi_1','Lokasi_2', 'No Kereta', 'Minggu Ke', 'Bulan Ke','Penyebab', 'Akibat', 'Nama Hari']),\n",
    "    remainder='passthrough')"
   ]
  },
  {
   "cell_type": "code",
   "execution_count": 13,
   "metadata": {},
   "outputs": [],
   "source": [
    "from sklearn.tree import DecisionTreeRegressor\n",
    "tree_clf = DecisionTreeRegressor(random_state=42)\n",
    "\n",
    "from sklearn.ensemble import RandomForestRegressor\n",
    "forest_reg = RandomForestRegressor(n_estimators=30, max_features=8, random_state=42)\n",
    "\n",
    "from sklearn.model_selection import GridSearchCV\n",
    "param_grid = [\n",
    "    {'n_estimators': [3, 10, 30], 'max_features': [2, 4, 6, 8]},\n",
    "    {'bootstrap': [False], 'n_estimators': [3, 10], 'max_features': [2, 3, 4]},\n",
    "  ]\n",
    "forest_reg2 = RandomForestRegressor(random_state=42)\n",
    "grid_search = GridSearchCV(forest_reg2, param_grid, cv=5,\n",
    "                           scoring='neg_mean_squared_error', return_train_score=True)\n",
    "\n",
    "from sklearn.svm import SVR\n",
    "svm_reg = SVR(kernel=\"linear\")\n",
    "\n",
    "from sklearn.ensemble import GradientBoostingRegressor\n",
    "gbrt = GradientBoostingRegressor(max_depth=2, n_estimators=120, random_state=42)\n",
    "\n",
    "from sklearn.ensemble import VotingRegressor\n",
    "voting_clf = VotingRegressor(\n",
    "    estimators=[('fr', forest_reg), ('tr', tree_clf), ('svc', svm_reg), ('gb', gbrt)])"
   ]
  },
  {
   "cell_type": "code",
   "execution_count": 14,
   "metadata": {},
   "outputs": [
    {
     "data": {
      "text/plain": [
       "Pipeline(memory=None,\n",
       "         steps=[('columntransformer',\n",
       "                 ColumnTransformer(n_jobs=None, remainder='passthrough',\n",
       "                                   sparse_threshold=0.3,\n",
       "                                   transformer_weights=None,\n",
       "                                   transformers=[('onehotencoder',\n",
       "                                                  OneHotEncoder(categorical_features=None,\n",
       "                                                                categories=None,\n",
       "                                                                drop=None,\n",
       "                                                                dtype=<class 'numpy.float64'>,\n",
       "                                                                handle_unknown='ignore',\n",
       "                                                                n_values=None,\n",
       "                                                                sparse=False),\n",
       "                                                  ['Lokasi_1', 'Lokasi_2',...\n",
       "                                           init=None, learning_rate=0.1,\n",
       "                                           loss='ls', max_depth=2,\n",
       "                                           max_features=None,\n",
       "                                           max_leaf_nodes=None,\n",
       "                                           min_impurity_decrease=0.0,\n",
       "                                           min_impurity_split=None,\n",
       "                                           min_samples_leaf=1,\n",
       "                                           min_samples_split=2,\n",
       "                                           min_weight_fraction_leaf=0.0,\n",
       "                                           n_estimators=120,\n",
       "                                           n_iter_no_change=None,\n",
       "                                           presort='auto', random_state=42,\n",
       "                                           subsample=1.0, tol=0.0001,\n",
       "                                           validation_fraction=0.1, verbose=0,\n",
       "                                           warm_start=False))],\n",
       "         verbose=False)"
      ]
     },
     "execution_count": 14,
     "metadata": {},
     "output_type": "execute_result"
    }
   ],
   "source": [
    "from sklearn.pipeline import make_pipeline\n",
    "pipe = make_pipeline(column_trans, forest_reg)\n",
    "pipe2 = make_pipeline(column_trans, svm_reg)\n",
    "pipe3 = make_pipeline(column_trans, tree_clf)\n",
    "pipe4 = make_pipeline(column_trans, grid_search)\n",
    "pipe5 = make_pipeline(column_trans, voting_clf)\n",
    "pipe6 = make_pipeline(column_trans, gbrt)\n",
    "\n",
    "pipe.fit(x_train, y_train)\n",
    "pipe2.fit(x_train, y_train)\n",
    "pipe3.fit(x_train, y_train)\n",
    "pipe4.fit(x_train, y_train)\n",
    "pipe5.fit(x_train, y_train)\n",
    "pipe6.fit(x_train, y_train)"
   ]
  },
  {
   "cell_type": "code",
   "execution_count": null,
   "metadata": {},
   "outputs": [],
   "source": []
  },
  {
   "cell_type": "code",
   "execution_count": 15,
   "metadata": {},
   "outputs": [
    {
     "data": {
      "text/plain": [
       "4.446564988093637"
      ]
     },
     "execution_count": 15,
     "metadata": {},
     "output_type": "execute_result"
    }
   ],
   "source": [
    "y_pred = pipe5.predict(x_test)\n",
    "from sklearn.metrics import mean_squared_error\n",
    "tree_mse = mean_squared_error(y_test, y_pred)\n",
    "tree_rmse = np.sqrt(tree_mse)\n",
    "tree_rmse"
   ]
  },
  {
   "cell_type": "code",
   "execution_count": 16,
   "metadata": {},
   "outputs": [
    {
     "data": {
      "text/plain": [
       "2.1858826683993087"
      ]
     },
     "execution_count": 16,
     "metadata": {},
     "output_type": "execute_result"
    }
   ],
   "source": [
    "from sklearn.metrics import mean_absolute_error\n",
    "y_pred = pipe5.predict(x_test)\n",
    "lin_mae = mean_absolute_error(y_test, y_pred)\n",
    "lin_mae"
   ]
  },
  {
   "cell_type": "code",
   "execution_count": 17,
   "metadata": {},
   "outputs": [
    {
     "data": {
      "text/plain": [
       "0.7030916011159783"
      ]
     },
     "execution_count": 17,
     "metadata": {},
     "output_type": "execute_result"
    }
   ],
   "source": [
    "from sklearn.model_selection import cross_val_score\n",
    "cv_scores = cross_val_score(pipe2,x_train,y_train,cv=5)\n",
    "cv_scores.mean()"
   ]
  },
  {
   "cell_type": "code",
   "execution_count": 18,
   "metadata": {},
   "outputs": [
    {
     "data": {
      "text/plain": [
       "{'max_features': 4, 'n_estimators': 30}"
      ]
     },
     "execution_count": 18,
     "metadata": {},
     "output_type": "execute_result"
    }
   ],
   "source": [
    "grid_search.best_params_"
   ]
  },
  {
   "cell_type": "code",
   "execution_count": 19,
   "metadata": {},
   "outputs": [
    {
     "data": {
      "text/plain": [
       "RandomForestRegressor(bootstrap=True, criterion='mse', max_depth=None,\n",
       "                      max_features=4, max_leaf_nodes=None,\n",
       "                      min_impurity_decrease=0.0, min_impurity_split=None,\n",
       "                      min_samples_leaf=1, min_samples_split=2,\n",
       "                      min_weight_fraction_leaf=0.0, n_estimators=30,\n",
       "                      n_jobs=None, oob_score=False, random_state=42, verbose=0,\n",
       "                      warm_start=False)"
      ]
     },
     "execution_count": 19,
     "metadata": {},
     "output_type": "execute_result"
    }
   ],
   "source": [
    "grid_search.best_estimator_"
   ]
  },
  {
   "cell_type": "code",
   "execution_count": 20,
   "metadata": {},
   "outputs": [
    {
     "data": {
      "text/plain": [
       "0.4374422627225374"
      ]
     },
     "execution_count": 20,
     "metadata": {},
     "output_type": "execute_result"
    }
   ],
   "source": [
    "from sklearn.model_selection import cross_val_score\n",
    "cv_scores = cross_val_score(pipe3,x_train,y_train,cv=5)\n",
    "cv_scores.mean()"
   ]
  },
  {
   "cell_type": "code",
   "execution_count": 21,
   "metadata": {},
   "outputs": [],
   "source": [
    "ohe = OneHotEncoder(sparse=False, categories='auto')"
   ]
  },
  {
   "cell_type": "code",
   "execution_count": 22,
   "metadata": {},
   "outputs": [
    {
     "data": {
      "text/plain": [
       "array([[0., 1.],\n",
       "       [0., 1.],\n",
       "       [0., 1.],\n",
       "       ...,\n",
       "       [1., 0.],\n",
       "       [1., 0.],\n",
       "       [1., 0.]])"
      ]
     },
     "execution_count": 22,
     "metadata": {},
     "output_type": "execute_result"
    }
   ],
   "source": [
    "ohe.fit_transform(df_c[['No Kereta']])"
   ]
  },
  {
   "cell_type": "code",
   "execution_count": 23,
   "metadata": {},
   "outputs": [
    {
     "data": {
      "text/plain": [
       "Andil        1.000000\n",
       "Nama Hari    0.004901\n",
       "No Kereta   -0.013103\n",
       "Bulan Ke    -0.016862\n",
       "Minggu Ke   -0.018441\n",
       "Name: Andil, dtype: float64"
      ]
     },
     "execution_count": 23,
     "metadata": {},
     "output_type": "execute_result"
    }
   ],
   "source": [
    "corr_matrix = df_c.corr()\n",
    "corr_matrix[\"Andil\"].sort_values(ascending=False)"
   ]
  },
  {
   "cell_type": "code",
   "execution_count": 24,
   "metadata": {},
   "outputs": [
    {
     "data": {
      "text/plain": [
       "0.7168621738533953"
      ]
     },
     "execution_count": 24,
     "metadata": {},
     "output_type": "execute_result"
    }
   ],
   "source": [
    "from sklearn.model_selection import cross_val_score\n",
    "cv_scores = cross_val_score(pipe,x_train,y_train,cv=5)\n",
    "cv_scores.mean()"
   ]
  },
  {
   "cell_type": "code",
   "execution_count": 25,
   "metadata": {},
   "outputs": [
    {
     "data": {
      "text/plain": [
       "0.7088833098170643"
      ]
     },
     "execution_count": 25,
     "metadata": {},
     "output_type": "execute_result"
    }
   ],
   "source": [
    "from sklearn.model_selection import cross_val_score\n",
    "cv_scores = cross_val_score(pipe5,x_train,y_train,cv=5)\n",
    "cv_scores.mean()"
   ]
  },
  {
   "cell_type": "code",
   "execution_count": 26,
   "metadata": {},
   "outputs": [
    {
     "data": {
      "text/plain": [
       "0.7184242996290441"
      ]
     },
     "execution_count": 26,
     "metadata": {},
     "output_type": "execute_result"
    }
   ],
   "source": [
    "from sklearn.model_selection import cross_val_score\n",
    "cv_scores = cross_val_score(pipe6,x_train,y_train,cv=5)\n",
    "cv_scores.mean()"
   ]
  },
  {
   "cell_type": "code",
   "execution_count": null,
   "metadata": {},
   "outputs": [],
   "source": []
  },
  {
   "cell_type": "code",
   "execution_count": 27,
   "metadata": {},
   "outputs": [
    {
     "data": {
      "text/plain": [
       "array([3.15184199, 5.44148623])"
      ]
     },
     "execution_count": 27,
     "metadata": {},
     "output_type": "execute_result"
    }
   ],
   "source": [
    "from scipy import stats\n",
    "confidence = 0.95\n",
    "squared_errors = (y_pred - y_test) ** 2\n",
    "mean = squared_errors.mean()\n",
    "m = len(squared_errors)\n",
    "\n",
    "np.sqrt(stats.t.interval(confidence, m - 1,\n",
    "                         loc=np.mean(squared_errors),\n",
    "                         scale=stats.sem(squared_errors)))"
   ]
  },
  {
   "cell_type": "code",
   "execution_count": 28,
   "metadata": {},
   "outputs": [
    {
     "data": {
      "text/plain": [
       "array([2.60346911, 5.72414439])"
      ]
     },
     "execution_count": 28,
     "metadata": {},
     "output_type": "execute_result"
    }
   ],
   "source": [
    "confidence2 = 0.99\n",
    "np.sqrt(stats.t.interval(confidence2, m - 1,\n",
    "                         loc=np.mean(squared_errors),\n",
    "                         scale=stats.sem(squared_errors)))"
   ]
  },
  {
   "cell_type": "code",
   "execution_count": 29,
   "metadata": {},
   "outputs": [
    {
     "data": {
      "text/plain": [
       "<bound method DataFrame.info of                           Penyebab                    Akibat      Lokasi_1  \\\n",
       "0                    ANTRIAN TIKET    LAMBAT DI STASIUN AWAL    Purwakarta   \n",
       "1                   TAKTIS MASINIS     MENGURANGI KELAMBATAN      Sukatani   \n",
       "2                   TAKTIS MASINIS     MENGURANGI KELAMBATAN      Cisomang   \n",
       "3                      TAKTIS PPKA     MENGURANGI KELAMBATAN  Cikadongdong   \n",
       "4    PEMASANGAN TASPAT (PRASARANA)         PEMASANGAN TASPAT  Cikadongdong   \n",
       "..                             ...                       ...           ...   \n",
       "702              TUNGGU PENYUSULAN  LAMBAT DI STASIUN ANTARA    Padalarang   \n",
       "703                    TAKTIS PPKA     MENGURANGI KELAMBATAN        Cilame   \n",
       "704  PEMASANGAN TASPAT (PRASARANA)         PEMASANGAN TASPAT        Cilame   \n",
       "705                 TAKTIS MASINIS     MENGURANGI KELAMBATAN      Cisomang   \n",
       "706                 TAKTIS MASINIS     MENGURANGI KELAMBATAN       Ciganea   \n",
       "\n",
       "         Lokasi_2  Andil  Bulan Ke  Nama Hari  Minggu Ke  No Kereta  \n",
       "0      Purwakarta     25         2          5          5        396  \n",
       "1          Plered     -5         2          5          5        396  \n",
       "2    Cikadongdong     -4         2          5          5        396  \n",
       "3    Cikadongdong     -4         2          5          5        396  \n",
       "4          Rendeh      1         2          5          5        396  \n",
       "..            ...    ...       ...        ...        ...        ...  \n",
       "702    Padalarang     10         3          4         13        395  \n",
       "703        Cilame    -10         3          4         13        395  \n",
       "704     Sasaksaat      1         3          4         13        395  \n",
       "705        Plered     -4         3          4         13        395  \n",
       "706    Purwakarta     -4         3          4         13        395  \n",
       "\n",
       "[707 rows x 9 columns]>"
      ]
     },
     "execution_count": 29,
     "metadata": {},
     "output_type": "execute_result"
    }
   ],
   "source": [
    "df.info"
   ]
  },
  {
   "cell_type": "code",
   "execution_count": 30,
   "metadata": {},
   "outputs": [
    {
     "data": {
      "text/plain": [
       "PEMASANGAN TASPAT (PRASARANA)                         236\n",
       "TAKTIS MASINIS                                        107\n",
       "TUNGGU PERSILANGAN                                     80\n",
       "TAKTIS PPKA                                            69\n",
       "PEKERJAAN JEMBATAN                                     67\n",
       "PENAMBAHAN HSD KERETA PEMBANGKIT DI STASIUN ANTARA     42\n",
       "GEOMETRI (JJ)                                          35\n",
       "TUNGGU PENYUSULAN                                      26\n",
       "PEMINDAHAN PERSILANGAN                                 19\n",
       "ALAM DAN EKSTERNALITAS                                  7\n",
       "ANJLOGAN (EKSTERNALITAS)                                4\n",
       "GARDAN SHAFT                                            4\n",
       "TUNGGU RANGKAIAN (ALAM DAN EKSTERNALITAS)               3\n",
       "GANGGUAN PENGEREMAN (KERETA)                            2\n",
       "TAMBAH/LEPAS LOK TRAKSI GANDA DI STASIUN ANTARA         2\n",
       "GANGGUAN SINYAL (PERSINYALAN ELEKTRIK)                  2\n",
       "ANTRIAN TIKET                                           1\n",
       "GANTI LOK DENGAN LOK CADANGAN DI STASIUN ANTARA         1\n",
       "Name: Penyebab, dtype: int64"
      ]
     },
     "execution_count": 30,
     "metadata": {},
     "output_type": "execute_result"
    }
   ],
   "source": [
    "dt[\"Penyebab\"].value_counts()"
   ]
  },
  {
   "cell_type": "code",
   "execution_count": 31,
   "metadata": {
    "scrolled": true
   },
   "outputs": [
    {
     "data": {
      "text/html": [
       "<div>\n",
       "<style scoped>\n",
       "    .dataframe tbody tr th:only-of-type {\n",
       "        vertical-align: middle;\n",
       "    }\n",
       "\n",
       "    .dataframe tbody tr th {\n",
       "        vertical-align: top;\n",
       "    }\n",
       "\n",
       "    .dataframe thead th {\n",
       "        text-align: right;\n",
       "    }\n",
       "</style>\n",
       "<table border=\"1\" class=\"dataframe\">\n",
       "  <thead>\n",
       "    <tr style=\"text-align: right;\">\n",
       "      <th></th>\n",
       "      <th># No</th>\n",
       "      <th>Andil</th>\n",
       "      <th>Bulan Ke</th>\n",
       "      <th>Hari Ke</th>\n",
       "      <th>Nama Hari</th>\n",
       "      <th>Minggu Ke</th>\n",
       "      <th>Andil2</th>\n",
       "      <th>Andil3</th>\n",
       "      <th>No Kereta</th>\n",
       "      <th>Andil Absolut</th>\n",
       "    </tr>\n",
       "  </thead>\n",
       "  <tbody>\n",
       "    <tr>\n",
       "      <td>count</td>\n",
       "      <td>707.000000</td>\n",
       "      <td>707.000000</td>\n",
       "      <td>707.000000</td>\n",
       "      <td>707.000000</td>\n",
       "      <td>707.000000</td>\n",
       "      <td>707.000000</td>\n",
       "      <td>707.000000</td>\n",
       "      <td>707.000000</td>\n",
       "      <td>707.000000</td>\n",
       "      <td>707.000000</td>\n",
       "    </tr>\n",
       "    <tr>\n",
       "      <td>mean</td>\n",
       "      <td>354.000000</td>\n",
       "      <td>2.578501</td>\n",
       "      <td>2.519095</td>\n",
       "      <td>13.200849</td>\n",
       "      <td>3.230552</td>\n",
       "      <td>8.929279</td>\n",
       "      <td>17.506365</td>\n",
       "      <td>15.442716</td>\n",
       "      <td>395.500707</td>\n",
       "      <td>5.571429</td>\n",
       "    </tr>\n",
       "    <tr>\n",
       "      <td>std</td>\n",
       "      <td>204.237607</td>\n",
       "      <td>7.948345</td>\n",
       "      <td>0.499989</td>\n",
       "      <td>7.985777</td>\n",
       "      <td>1.989142</td>\n",
       "      <td>2.281364</td>\n",
       "      <td>14.755069</td>\n",
       "      <td>14.688186</td>\n",
       "      <td>0.500353</td>\n",
       "      <td>6.224909</td>\n",
       "    </tr>\n",
       "    <tr>\n",
       "      <td>min</td>\n",
       "      <td>1.000000</td>\n",
       "      <td>-25.000000</td>\n",
       "      <td>2.000000</td>\n",
       "      <td>1.000000</td>\n",
       "      <td>0.000000</td>\n",
       "      <td>5.000000</td>\n",
       "      <td>-4.000000</td>\n",
       "      <td>-4.000000</td>\n",
       "      <td>395.000000</td>\n",
       "      <td>1.000000</td>\n",
       "    </tr>\n",
       "    <tr>\n",
       "      <td>25%</td>\n",
       "      <td>177.500000</td>\n",
       "      <td>0.000000</td>\n",
       "      <td>2.000000</td>\n",
       "      <td>7.000000</td>\n",
       "      <td>1.000000</td>\n",
       "      <td>7.000000</td>\n",
       "      <td>5.000000</td>\n",
       "      <td>4.000000</td>\n",
       "      <td>395.000000</td>\n",
       "      <td>1.500000</td>\n",
       "    </tr>\n",
       "    <tr>\n",
       "      <td>50%</td>\n",
       "      <td>354.000000</td>\n",
       "      <td>2.000000</td>\n",
       "      <td>3.000000</td>\n",
       "      <td>12.000000</td>\n",
       "      <td>4.000000</td>\n",
       "      <td>9.000000</td>\n",
       "      <td>14.000000</td>\n",
       "      <td>10.000000</td>\n",
       "      <td>396.000000</td>\n",
       "      <td>2.000000</td>\n",
       "    </tr>\n",
       "    <tr>\n",
       "      <td>75%</td>\n",
       "      <td>530.500000</td>\n",
       "      <td>4.500000</td>\n",
       "      <td>3.000000</td>\n",
       "      <td>20.000000</td>\n",
       "      <td>5.000000</td>\n",
       "      <td>11.000000</td>\n",
       "      <td>27.000000</td>\n",
       "      <td>22.000000</td>\n",
       "      <td>396.000000</td>\n",
       "      <td>8.000000</td>\n",
       "    </tr>\n",
       "    <tr>\n",
       "      <td>max</td>\n",
       "      <td>707.000000</td>\n",
       "      <td>41.000000</td>\n",
       "      <td>3.000000</td>\n",
       "      <td>31.000000</td>\n",
       "      <td>6.000000</td>\n",
       "      <td>13.000000</td>\n",
       "      <td>71.000000</td>\n",
       "      <td>71.000000</td>\n",
       "      <td>396.000000</td>\n",
       "      <td>41.000000</td>\n",
       "    </tr>\n",
       "  </tbody>\n",
       "</table>\n",
       "</div>"
      ],
      "text/plain": [
       "             # No       Andil    Bulan Ke     Hari Ke   Nama Hari   Minggu Ke  \\\n",
       "count  707.000000  707.000000  707.000000  707.000000  707.000000  707.000000   \n",
       "mean   354.000000    2.578501    2.519095   13.200849    3.230552    8.929279   \n",
       "std    204.237607    7.948345    0.499989    7.985777    1.989142    2.281364   \n",
       "min      1.000000  -25.000000    2.000000    1.000000    0.000000    5.000000   \n",
       "25%    177.500000    0.000000    2.000000    7.000000    1.000000    7.000000   \n",
       "50%    354.000000    2.000000    3.000000   12.000000    4.000000    9.000000   \n",
       "75%    530.500000    4.500000    3.000000   20.000000    5.000000   11.000000   \n",
       "max    707.000000   41.000000    3.000000   31.000000    6.000000   13.000000   \n",
       "\n",
       "           Andil2      Andil3   No Kereta  Andil Absolut  \n",
       "count  707.000000  707.000000  707.000000     707.000000  \n",
       "mean    17.506365   15.442716  395.500707       5.571429  \n",
       "std     14.755069   14.688186    0.500353       6.224909  \n",
       "min     -4.000000   -4.000000  395.000000       1.000000  \n",
       "25%      5.000000    4.000000  395.000000       1.500000  \n",
       "50%     14.000000   10.000000  396.000000       2.000000  \n",
       "75%     27.000000   22.000000  396.000000       8.000000  \n",
       "max     71.000000   71.000000  396.000000      41.000000  "
      ]
     },
     "execution_count": 31,
     "metadata": {},
     "output_type": "execute_result"
    }
   ],
   "source": [
    "dt.describe()"
   ]
  },
  {
   "cell_type": "code",
   "execution_count": 32,
   "metadata": {},
   "outputs": [
    {
     "data": {
      "image/png": "[encoded data removed]",
      "text/plain": [
       "<Figure size 1440x1080 with 12 Axes>"
      ]
     },
     "metadata": {
      "needs_background": "light"
     },
     "output_type": "display_data"
    }
   ],
   "source": [
    "%matplotlib inline\n",
    "import matplotlib.pyplot as plt\n",
    "dt.hist(bins=50, figsize=(20,15))\n",
    "plt.show()"
   ]
  },
  {
   "cell_type": "code",
   "execution_count": 33,
   "metadata": {},
   "outputs": [
    {
     "name": "stderr",
     "output_type": "stream",
     "text": [
      "C:\\ProgramData\\Anaconda3\\lib\\site-packages\\ipykernel_launcher.py:3: SettingWithCopyWarning: \n",
      "A value is trying to be set on a copy of a slice from a DataFrame.\n",
      "Try using .loc[row_indexer,col_indexer] = value instead\n",
      "\n",
      "See the caveats in the documentation: http://pandas.pydata.org/pandas-docs/stable/user_guide/indexing.html#returning-a-view-versus-a-copy\n",
      "  This is separate from the ipykernel package so we can avoid doing imports until\n"
     ]
    },
    {
     "data": {
      "text/html": [
       "<div>\n",
       "<style scoped>\n",
       "    .dataframe tbody tr th:only-of-type {\n",
       "        vertical-align: middle;\n",
       "    }\n",
       "\n",
       "    .dataframe tbody tr th {\n",
       "        vertical-align: top;\n",
       "    }\n",
       "\n",
       "    .dataframe thead th {\n",
       "        text-align: right;\n",
       "    }\n",
       "</style>\n",
       "<table border=\"1\" class=\"dataframe\">\n",
       "  <thead>\n",
       "    <tr style=\"text-align: right;\">\n",
       "      <th></th>\n",
       "      <th>Penyebab</th>\n",
       "      <th>Akibat</th>\n",
       "      <th>Lokasi_1</th>\n",
       "      <th>Lokasi_2</th>\n",
       "      <th>Andil</th>\n",
       "      <th>Bulan Ke</th>\n",
       "      <th>Nama Hari</th>\n",
       "      <th>Minggu Ke</th>\n",
       "      <th>No Kereta</th>\n",
       "      <th>Prediksi</th>\n",
       "    </tr>\n",
       "  </thead>\n",
       "  <tbody>\n",
       "    <tr>\n",
       "      <td>479</td>\n",
       "      <td>TAKTIS MASINIS</td>\n",
       "      <td>MENGURANGI KELAMBATAN</td>\n",
       "      <td>Cisomang</td>\n",
       "      <td>Plered</td>\n",
       "      <td>-4</td>\n",
       "      <td>2</td>\n",
       "      <td>2</td>\n",
       "      <td>8</td>\n",
       "      <td>395</td>\n",
       "      <td>-4.472908</td>\n",
       "    </tr>\n",
       "    <tr>\n",
       "      <td>81</td>\n",
       "      <td>GANGGUAN SINYAL (PERSINYALAN ELEKTRIK)</td>\n",
       "      <td>LAMBAT DI STASIUN ANTARA</td>\n",
       "      <td>Kiaracondong</td>\n",
       "      <td>Kiaracondong</td>\n",
       "      <td>8</td>\n",
       "      <td>2</td>\n",
       "      <td>1</td>\n",
       "      <td>7</td>\n",
       "      <td>396</td>\n",
       "      <td>15.047833</td>\n",
       "    </tr>\n",
       "    <tr>\n",
       "      <td>77</td>\n",
       "      <td>PEKERJAAN JEMBATAN</td>\n",
       "      <td>PEMASANGAN TASPAT</td>\n",
       "      <td>Cimekar</td>\n",
       "      <td>Rancaekek</td>\n",
       "      <td>1</td>\n",
       "      <td>2</td>\n",
       "      <td>0</td>\n",
       "      <td>7</td>\n",
       "      <td>396</td>\n",
       "      <td>1.868499</td>\n",
       "    </tr>\n",
       "    <tr>\n",
       "      <td>208</td>\n",
       "      <td>PEMASANGAN TASPAT (PRASARANA)</td>\n",
       "      <td>PEMASANGAN TASPAT</td>\n",
       "      <td>Bandung</td>\n",
       "      <td>Cikudapateuh</td>\n",
       "      <td>2</td>\n",
       "      <td>3</td>\n",
       "      <td>2</td>\n",
       "      <td>10</td>\n",
       "      <td>396</td>\n",
       "      <td>1.828814</td>\n",
       "    </tr>\n",
       "    <tr>\n",
       "      <td>319</td>\n",
       "      <td>TAKTIS MASINIS</td>\n",
       "      <td>MENGURANGI KELAMBATAN</td>\n",
       "      <td>Lebakjero</td>\n",
       "      <td>Leles</td>\n",
       "      <td>-5</td>\n",
       "      <td>3</td>\n",
       "      <td>3</td>\n",
       "      <td>12</td>\n",
       "      <td>396</td>\n",
       "      <td>-3.905681</td>\n",
       "    </tr>\n",
       "    <tr>\n",
       "      <td>...</td>\n",
       "      <td>...</td>\n",
       "      <td>...</td>\n",
       "      <td>...</td>\n",
       "      <td>...</td>\n",
       "      <td>...</td>\n",
       "      <td>...</td>\n",
       "      <td>...</td>\n",
       "      <td>...</td>\n",
       "      <td>...</td>\n",
       "      <td>...</td>\n",
       "    </tr>\n",
       "    <tr>\n",
       "      <td>257</td>\n",
       "      <td>TAKTIS MASINIS</td>\n",
       "      <td>MENGURANGI KELAMBATAN</td>\n",
       "      <td>Leles</td>\n",
       "      <td>Karangsari</td>\n",
       "      <td>-6</td>\n",
       "      <td>3</td>\n",
       "      <td>0</td>\n",
       "      <td>11</td>\n",
       "      <td>396</td>\n",
       "      <td>-4.299060</td>\n",
       "    </tr>\n",
       "    <tr>\n",
       "      <td>56</td>\n",
       "      <td>PEMASANGAN TASPAT (PRASARANA)</td>\n",
       "      <td>PEMASANGAN TASPAT</td>\n",
       "      <td>Andir</td>\n",
       "      <td>Bandung</td>\n",
       "      <td>2</td>\n",
       "      <td>2</td>\n",
       "      <td>4</td>\n",
       "      <td>6</td>\n",
       "      <td>396</td>\n",
       "      <td>1.938135</td>\n",
       "    </tr>\n",
       "    <tr>\n",
       "      <td>687</td>\n",
       "      <td>TUNGGU PERSILANGAN</td>\n",
       "      <td>LAMBAT DI STASIUN ANTARA</td>\n",
       "      <td>Karangsari</td>\n",
       "      <td>Karangsari</td>\n",
       "      <td>9</td>\n",
       "      <td>3</td>\n",
       "      <td>3</td>\n",
       "      <td>13</td>\n",
       "      <td>395</td>\n",
       "      <td>11.022129</td>\n",
       "    </tr>\n",
       "    <tr>\n",
       "      <td>521</td>\n",
       "      <td>TAKTIS MASINIS</td>\n",
       "      <td>MENGURANGI KELAMBATAN</td>\n",
       "      <td>Ciganea</td>\n",
       "      <td>Purwakarta</td>\n",
       "      <td>-8</td>\n",
       "      <td>2</td>\n",
       "      <td>2</td>\n",
       "      <td>9</td>\n",
       "      <td>395</td>\n",
       "      <td>-5.347364</td>\n",
       "    </tr>\n",
       "    <tr>\n",
       "      <td>24</td>\n",
       "      <td>TUNGGU PERSILANGAN</td>\n",
       "      <td>LAMBAT DI STASIUN ANTARA</td>\n",
       "      <td>Cicalengka</td>\n",
       "      <td>Cicalengka</td>\n",
       "      <td>20</td>\n",
       "      <td>2</td>\n",
       "      <td>6</td>\n",
       "      <td>5</td>\n",
       "      <td>396</td>\n",
       "      <td>10.938058</td>\n",
       "    </tr>\n",
       "  </tbody>\n",
       "</table>\n",
       "<p>142 rows × 10 columns</p>\n",
       "</div>"
      ],
      "text/plain": [
       "                                   Penyebab                    Akibat  \\\n",
       "479                          TAKTIS MASINIS     MENGURANGI KELAMBATAN   \n",
       "81   GANGGUAN SINYAL (PERSINYALAN ELEKTRIK)  LAMBAT DI STASIUN ANTARA   \n",
       "77                       PEKERJAAN JEMBATAN         PEMASANGAN TASPAT   \n",
       "208           PEMASANGAN TASPAT (PRASARANA)         PEMASANGAN TASPAT   \n",
       "319                          TAKTIS MASINIS     MENGURANGI KELAMBATAN   \n",
       "..                                      ...                       ...   \n",
       "257                          TAKTIS MASINIS     MENGURANGI KELAMBATAN   \n",
       "56            PEMASANGAN TASPAT (PRASARANA)         PEMASANGAN TASPAT   \n",
       "687                      TUNGGU PERSILANGAN  LAMBAT DI STASIUN ANTARA   \n",
       "521                          TAKTIS MASINIS     MENGURANGI KELAMBATAN   \n",
       "24                       TUNGGU PERSILANGAN  LAMBAT DI STASIUN ANTARA   \n",
       "\n",
       "         Lokasi_1      Lokasi_2  Andil  Bulan Ke  Nama Hari  Minggu Ke  \\\n",
       "479      Cisomang        Plered     -4         2          2          8   \n",
       "81   Kiaracondong  Kiaracondong      8         2          1          7   \n",
       "77        Cimekar     Rancaekek      1         2          0          7   \n",
       "208       Bandung  Cikudapateuh      2         3          2         10   \n",
       "319     Lebakjero         Leles     -5         3          3         12   \n",
       "..            ...           ...    ...       ...        ...        ...   \n",
       "257         Leles    Karangsari     -6         3          0         11   \n",
       "56          Andir       Bandung      2         2          4          6   \n",
       "687    Karangsari    Karangsari      9         3          3         13   \n",
       "521       Ciganea    Purwakarta     -8         2          2          9   \n",
       "24     Cicalengka    Cicalengka     20         2          6          5   \n",
       "\n",
       "     No Kereta   Prediksi  \n",
       "479        395  -4.472908  \n",
       "81         396  15.047833  \n",
       "77         396   1.868499  \n",
       "208        396   1.828814  \n",
       "319        396  -3.905681  \n",
       "..         ...        ...  \n",
       "257        396  -4.299060  \n",
       "56         396   1.938135  \n",
       "687        395  11.022129  \n",
       "521        395  -5.347364  \n",
       "24         396  10.938058  \n",
       "\n",
       "[142 rows x 10 columns]"
      ]
     },
     "execution_count": 33,
     "metadata": {},
     "output_type": "execute_result"
    }
   ],
   "source": [
    "abc = test_set\n",
    "#df = dt.drop(['Tanggal','Andil','Penyebab', 'Hari Ke', 'Nama Hari', '# No', 'Akibat'], axis=1)\n",
    "abc['Prediksi'] = y_pred\n",
    "np.savetxt(\"outpred.csv\", abc, delimiter=\",\", fmt=\"%s\", header=\"Penyebab, Akibat, Lokasi_1,Lokasi_2,Andil,Bulan Ke,Minggu ke,No Kereta,Prediksi\")\n",
    "abc"
   ]
  },
  {
   "cell_type": "code",
   "execution_count": 34,
   "metadata": {},
   "outputs": [
    {
     "data": {
      "text/html": [
       "<div>\n",
       "<style scoped>\n",
       "    .dataframe tbody tr th:only-of-type {\n",
       "        vertical-align: middle;\n",
       "    }\n",
       "\n",
       "    .dataframe tbody tr th {\n",
       "        vertical-align: top;\n",
       "    }\n",
       "\n",
       "    .dataframe thead th {\n",
       "        text-align: right;\n",
       "    }\n",
       "</style>\n",
       "<table border=\"1\" class=\"dataframe\">\n",
       "  <thead>\n",
       "    <tr style=\"text-align: right;\">\n",
       "      <th></th>\n",
       "      <th># Penyebab</th>\n",
       "      <th>Akibat</th>\n",
       "      <th>Lokasi_1</th>\n",
       "      <th>Lokasi_2</th>\n",
       "      <th>Andil</th>\n",
       "      <th>Bulan Ke</th>\n",
       "      <th>Minggu ke</th>\n",
       "      <th>No Kereta</th>\n",
       "      <th>Prediksi</th>\n",
       "    </tr>\n",
       "  </thead>\n",
       "  <tbody>\n",
       "    <tr>\n",
       "      <td>TAKTIS MASINIS</td>\n",
       "      <td>MENGURANGI KELAMBATAN</td>\n",
       "      <td>Cisomang</td>\n",
       "      <td>Plered</td>\n",
       "      <td>-4</td>\n",
       "      <td>2</td>\n",
       "      <td>2</td>\n",
       "      <td>8</td>\n",
       "      <td>395</td>\n",
       "      <td>-4.472908</td>\n",
       "    </tr>\n",
       "    <tr>\n",
       "      <td>GANGGUAN SINYAL (PERSINYALAN ELEKTRIK)</td>\n",
       "      <td>LAMBAT DI STASIUN ANTARA</td>\n",
       "      <td>Kiaracondong</td>\n",
       "      <td>Kiaracondong</td>\n",
       "      <td>8</td>\n",
       "      <td>2</td>\n",
       "      <td>1</td>\n",
       "      <td>7</td>\n",
       "      <td>396</td>\n",
       "      <td>15.047833</td>\n",
       "    </tr>\n",
       "    <tr>\n",
       "      <td>PEKERJAAN JEMBATAN</td>\n",
       "      <td>PEMASANGAN TASPAT</td>\n",
       "      <td>Cimekar</td>\n",
       "      <td>Rancaekek</td>\n",
       "      <td>1</td>\n",
       "      <td>2</td>\n",
       "      <td>0</td>\n",
       "      <td>7</td>\n",
       "      <td>396</td>\n",
       "      <td>1.868499</td>\n",
       "    </tr>\n",
       "    <tr>\n",
       "      <td>PEMASANGAN TASPAT (PRASARANA)</td>\n",
       "      <td>PEMASANGAN TASPAT</td>\n",
       "      <td>Bandung</td>\n",
       "      <td>Cikudapateuh</td>\n",
       "      <td>2</td>\n",
       "      <td>3</td>\n",
       "      <td>2</td>\n",
       "      <td>10</td>\n",
       "      <td>396</td>\n",
       "      <td>1.828814</td>\n",
       "    </tr>\n",
       "    <tr>\n",
       "      <td>TAKTIS MASINIS</td>\n",
       "      <td>MENGURANGI KELAMBATAN</td>\n",
       "      <td>Lebakjero</td>\n",
       "      <td>Leles</td>\n",
       "      <td>-5</td>\n",
       "      <td>3</td>\n",
       "      <td>3</td>\n",
       "      <td>12</td>\n",
       "      <td>396</td>\n",
       "      <td>-3.905681</td>\n",
       "    </tr>\n",
       "    <tr>\n",
       "      <td>...</td>\n",
       "      <td>...</td>\n",
       "      <td>...</td>\n",
       "      <td>...</td>\n",
       "      <td>...</td>\n",
       "      <td>...</td>\n",
       "      <td>...</td>\n",
       "      <td>...</td>\n",
       "      <td>...</td>\n",
       "      <td>...</td>\n",
       "    </tr>\n",
       "    <tr>\n",
       "      <td>TAKTIS MASINIS</td>\n",
       "      <td>MENGURANGI KELAMBATAN</td>\n",
       "      <td>Leles</td>\n",
       "      <td>Karangsari</td>\n",
       "      <td>-6</td>\n",
       "      <td>3</td>\n",
       "      <td>0</td>\n",
       "      <td>11</td>\n",
       "      <td>396</td>\n",
       "      <td>-4.299060</td>\n",
       "    </tr>\n",
       "    <tr>\n",
       "      <td>PEMASANGAN TASPAT (PRASARANA)</td>\n",
       "      <td>PEMASANGAN TASPAT</td>\n",
       "      <td>Andir</td>\n",
       "      <td>Bandung</td>\n",
       "      <td>2</td>\n",
       "      <td>2</td>\n",
       "      <td>4</td>\n",
       "      <td>6</td>\n",
       "      <td>396</td>\n",
       "      <td>1.938135</td>\n",
       "    </tr>\n",
       "    <tr>\n",
       "      <td>TUNGGU PERSILANGAN</td>\n",
       "      <td>LAMBAT DI STASIUN ANTARA</td>\n",
       "      <td>Karangsari</td>\n",
       "      <td>Karangsari</td>\n",
       "      <td>9</td>\n",
       "      <td>3</td>\n",
       "      <td>3</td>\n",
       "      <td>13</td>\n",
       "      <td>395</td>\n",
       "      <td>11.022129</td>\n",
       "    </tr>\n",
       "    <tr>\n",
       "      <td>TAKTIS MASINIS</td>\n",
       "      <td>MENGURANGI KELAMBATAN</td>\n",
       "      <td>Ciganea</td>\n",
       "      <td>Purwakarta</td>\n",
       "      <td>-8</td>\n",
       "      <td>2</td>\n",
       "      <td>2</td>\n",
       "      <td>9</td>\n",
       "      <td>395</td>\n",
       "      <td>-5.347364</td>\n",
       "    </tr>\n",
       "    <tr>\n",
       "      <td>TUNGGU PERSILANGAN</td>\n",
       "      <td>LAMBAT DI STASIUN ANTARA</td>\n",
       "      <td>Cicalengka</td>\n",
       "      <td>Cicalengka</td>\n",
       "      <td>20</td>\n",
       "      <td>2</td>\n",
       "      <td>6</td>\n",
       "      <td>5</td>\n",
       "      <td>396</td>\n",
       "      <td>10.938058</td>\n",
       "    </tr>\n",
       "  </tbody>\n",
       "</table>\n",
       "<p>142 rows × 9 columns</p>\n",
       "</div>"
      ],
      "text/plain": [
       "                                                      # Penyebab  \\\n",
       "TAKTIS MASINIS                             MENGURANGI KELAMBATAN   \n",
       "GANGGUAN SINYAL (PERSINYALAN ELEKTRIK)  LAMBAT DI STASIUN ANTARA   \n",
       "PEKERJAAN JEMBATAN                             PEMASANGAN TASPAT   \n",
       "PEMASANGAN TASPAT (PRASARANA)                  PEMASANGAN TASPAT   \n",
       "TAKTIS MASINIS                             MENGURANGI KELAMBATAN   \n",
       "...                                                          ...   \n",
       "TAKTIS MASINIS                             MENGURANGI KELAMBATAN   \n",
       "PEMASANGAN TASPAT (PRASARANA)                  PEMASANGAN TASPAT   \n",
       "TUNGGU PERSILANGAN                      LAMBAT DI STASIUN ANTARA   \n",
       "TAKTIS MASINIS                             MENGURANGI KELAMBATAN   \n",
       "TUNGGU PERSILANGAN                      LAMBAT DI STASIUN ANTARA   \n",
       "\n",
       "                                              Akibat      Lokasi_1  Lokasi_2  \\\n",
       "TAKTIS MASINIS                              Cisomang        Plered        -4   \n",
       "GANGGUAN SINYAL (PERSINYALAN ELEKTRIK)  Kiaracondong  Kiaracondong         8   \n",
       "PEKERJAAN JEMBATAN                           Cimekar     Rancaekek         1   \n",
       "PEMASANGAN TASPAT (PRASARANA)                Bandung  Cikudapateuh         2   \n",
       "TAKTIS MASINIS                             Lebakjero         Leles        -5   \n",
       "...                                              ...           ...       ...   \n",
       "TAKTIS MASINIS                                 Leles    Karangsari        -6   \n",
       "PEMASANGAN TASPAT (PRASARANA)                  Andir       Bandung         2   \n",
       "TUNGGU PERSILANGAN                        Karangsari    Karangsari         9   \n",
       "TAKTIS MASINIS                               Ciganea    Purwakarta        -8   \n",
       "TUNGGU PERSILANGAN                        Cicalengka    Cicalengka        20   \n",
       "\n",
       "                                        Andil  Bulan Ke  Minggu ke  No Kereta  \\\n",
       "TAKTIS MASINIS                              2         2          8        395   \n",
       "GANGGUAN SINYAL (PERSINYALAN ELEKTRIK)      2         1          7        396   \n",
       "PEKERJAAN JEMBATAN                          2         0          7        396   \n",
       "PEMASANGAN TASPAT (PRASARANA)               3         2         10        396   \n",
       "TAKTIS MASINIS                              3         3         12        396   \n",
       "...                                       ...       ...        ...        ...   \n",
       "TAKTIS MASINIS                              3         0         11        396   \n",
       "PEMASANGAN TASPAT (PRASARANA)               2         4          6        396   \n",
       "TUNGGU PERSILANGAN                          3         3         13        395   \n",
       "TAKTIS MASINIS                              2         2          9        395   \n",
       "TUNGGU PERSILANGAN                          2         6          5        396   \n",
       "\n",
       "                                         Prediksi  \n",
       "TAKTIS MASINIS                          -4.472908  \n",
       "GANGGUAN SINYAL (PERSINYALAN ELEKTRIK)  15.047833  \n",
       "PEKERJAAN JEMBATAN                       1.868499  \n",
       "PEMASANGAN TASPAT (PRASARANA)            1.828814  \n",
       "TAKTIS MASINIS                          -3.905681  \n",
       "...                                           ...  \n",
       "TAKTIS MASINIS                          -4.299060  \n",
       "PEMASANGAN TASPAT (PRASARANA)            1.938135  \n",
       "TUNGGU PERSILANGAN                      11.022129  \n",
       "TAKTIS MASINIS                          -5.347364  \n",
       "TUNGGU PERSILANGAN                      10.938058  \n",
       "\n",
       "[142 rows x 9 columns]"
      ]
     },
     "execution_count": 34,
     "metadata": {},
     "output_type": "execute_result"
    }
   ],
   "source": [
    "df_out=pd.read_csv('outpred.csv', sep=',',header=0)\n",
    "df_out"
   ]
  },
  {
   "cell_type": "code",
   "execution_count": 35,
   "metadata": {},
   "outputs": [
    {
     "data": {
      "text/plain": [
       "['# Penyebab',\n",
       " ' Akibat',\n",
       " ' Lokasi_1',\n",
       " 'Lokasi_2',\n",
       " 'Andil',\n",
       " 'Bulan Ke',\n",
       " 'Minggu ke',\n",
       " 'No Kereta',\n",
       " 'Prediksi']"
      ]
     },
     "execution_count": 35,
     "metadata": {},
     "output_type": "execute_result"
    }
   ],
   "source": [
    "list(df_out.columns) "
   ]
  },
  {
   "cell_type": "code",
   "execution_count": 36,
   "metadata": {},
   "outputs": [
    {
     "data": {
      "text/html": [
       "<div>\n",
       "<style scoped>\n",
       "    .dataframe tbody tr th:only-of-type {\n",
       "        vertical-align: middle;\n",
       "    }\n",
       "\n",
       "    .dataframe tbody tr th {\n",
       "        vertical-align: top;\n",
       "    }\n",
       "\n",
       "    .dataframe thead th {\n",
       "        text-align: right;\n",
       "    }\n",
       "</style>\n",
       "<table border=\"1\" class=\"dataframe\">\n",
       "  <thead>\n",
       "    <tr style=\"text-align: right;\">\n",
       "      <th></th>\n",
       "      <th>Penyebab</th>\n",
       "      <th>Akibat</th>\n",
       "      <th>Lokasi_1</th>\n",
       "      <th>Lokasi_2</th>\n",
       "      <th>Andil</th>\n",
       "      <th>Bulan Ke</th>\n",
       "      <th>Nama Hari</th>\n",
       "      <th>Minggu Ke</th>\n",
       "      <th>No Kereta</th>\n",
       "      <th>Prediksi</th>\n",
       "    </tr>\n",
       "  </thead>\n",
       "  <tbody>\n",
       "    <tr>\n",
       "      <td>0</td>\n",
       "      <td>ANTRIAN TIKET</td>\n",
       "      <td>LAMBAT DI STASIUN AWAL</td>\n",
       "      <td>Purwakarta</td>\n",
       "      <td>Purwakarta</td>\n",
       "      <td>25</td>\n",
       "      <td>2</td>\n",
       "      <td>5</td>\n",
       "      <td>5</td>\n",
       "      <td>396</td>\n",
       "      <td>19.674823</td>\n",
       "    </tr>\n",
       "    <tr>\n",
       "      <td>1</td>\n",
       "      <td>TAKTIS MASINIS</td>\n",
       "      <td>MENGURANGI KELAMBATAN</td>\n",
       "      <td>Sukatani</td>\n",
       "      <td>Plered</td>\n",
       "      <td>-5</td>\n",
       "      <td>2</td>\n",
       "      <td>5</td>\n",
       "      <td>5</td>\n",
       "      <td>396</td>\n",
       "      <td>-4.510165</td>\n",
       "    </tr>\n",
       "    <tr>\n",
       "      <td>2</td>\n",
       "      <td>TAKTIS MASINIS</td>\n",
       "      <td>MENGURANGI KELAMBATAN</td>\n",
       "      <td>Cisomang</td>\n",
       "      <td>Cikadongdong</td>\n",
       "      <td>-4</td>\n",
       "      <td>2</td>\n",
       "      <td>5</td>\n",
       "      <td>5</td>\n",
       "      <td>396</td>\n",
       "      <td>-3.576739</td>\n",
       "    </tr>\n",
       "    <tr>\n",
       "      <td>3</td>\n",
       "      <td>TAKTIS PPKA</td>\n",
       "      <td>MENGURANGI KELAMBATAN</td>\n",
       "      <td>Cikadongdong</td>\n",
       "      <td>Cikadongdong</td>\n",
       "      <td>-4</td>\n",
       "      <td>2</td>\n",
       "      <td>5</td>\n",
       "      <td>5</td>\n",
       "      <td>396</td>\n",
       "      <td>-5.465719</td>\n",
       "    </tr>\n",
       "    <tr>\n",
       "      <td>4</td>\n",
       "      <td>PEMASANGAN TASPAT (PRASARANA)</td>\n",
       "      <td>PEMASANGAN TASPAT</td>\n",
       "      <td>Cikadongdong</td>\n",
       "      <td>Rendeh</td>\n",
       "      <td>1</td>\n",
       "      <td>2</td>\n",
       "      <td>5</td>\n",
       "      <td>5</td>\n",
       "      <td>396</td>\n",
       "      <td>1.158420</td>\n",
       "    </tr>\n",
       "    <tr>\n",
       "      <td>5</td>\n",
       "      <td>ANJLOGAN (EKSTERNALITAS)</td>\n",
       "      <td>PEMINDAHAN PERSILANGAN</td>\n",
       "      <td>Rendeh</td>\n",
       "      <td>Rendeh</td>\n",
       "      <td>2</td>\n",
       "      <td>2</td>\n",
       "      <td>5</td>\n",
       "      <td>5</td>\n",
       "      <td>396</td>\n",
       "      <td>6.301655</td>\n",
       "    </tr>\n",
       "  </tbody>\n",
       "</table>\n",
       "</div>"
      ],
      "text/plain": [
       "                        Penyebab                  Akibat      Lokasi_1  \\\n",
       "0                  ANTRIAN TIKET  LAMBAT DI STASIUN AWAL    Purwakarta   \n",
       "1                 TAKTIS MASINIS   MENGURANGI KELAMBATAN      Sukatani   \n",
       "2                 TAKTIS MASINIS   MENGURANGI KELAMBATAN      Cisomang   \n",
       "3                    TAKTIS PPKA   MENGURANGI KELAMBATAN  Cikadongdong   \n",
       "4  PEMASANGAN TASPAT (PRASARANA)       PEMASANGAN TASPAT  Cikadongdong   \n",
       "5       ANJLOGAN (EKSTERNALITAS)  PEMINDAHAN PERSILANGAN        Rendeh   \n",
       "\n",
       "       Lokasi_2  Andil  Bulan Ke  Nama Hari  Minggu Ke  No Kereta   Prediksi  \n",
       "0    Purwakarta     25         2          5          5        396  19.674823  \n",
       "1        Plered     -5         2          5          5        396  -4.510165  \n",
       "2  Cikadongdong     -4         2          5          5        396  -3.576739  \n",
       "3  Cikadongdong     -4         2          5          5        396  -5.465719  \n",
       "4        Rendeh      1         2          5          5        396   1.158420  \n",
       "5        Rendeh      2         2          5          5        396   6.301655  "
      ]
     },
     "execution_count": 36,
     "metadata": {},
     "output_type": "execute_result"
    }
   ],
   "source": [
    "#melakukan prediksi terhadap data input baru dengan model yang sudah dibuat \n",
    "dt_new = pd.read_csv('data_baru_untuk_diprediksi.csv')\n",
    "dt_new_drop = dt_new.drop(['Tanggal','Andil2', 'Andil3', 'Hari Ke', '# No', 'Andil Absolut'], axis=1)\n",
    "dt_new_cleaned = dt_new_drop.dropna()\n",
    "\n",
    "x_new = dt_new_cleaned.drop('Andil', axis = 1)\n",
    "y_new = dt_new_cleaned.Andil\n",
    "\n",
    "y_new_pred = pipe5.predict(x_new)\n",
    "dt_new_cleaned['Prediksi'] = y_new_pred\n",
    "dt_new_cleaned"
   ]
  },
  {
   "cell_type": "code",
   "execution_count": null,
   "metadata": {},
   "outputs": [],
   "source": [
    "\n"
   ]
  },
  {
   "cell_type": "code",
   "execution_count": 37,
   "metadata": {},
   "outputs": [
    {
     "data": {
      "text/plain": [
       "array([19.67482298, -4.51016517, -3.57673945, -5.46571906,  1.15841962,\n",
       "        6.30165543])"
      ]
     },
     "execution_count": 37,
     "metadata": {},
     "output_type": "execute_result"
    }
   ],
   "source": [
    "y_new_pred"
   ]
  },
  {
   "cell_type": "code",
   "execution_count": 38,
   "metadata": {},
   "outputs": [
    {
     "data": {
      "text/plain": [
       "0    25\n",
       "1    -5\n",
       "2    -4\n",
       "3    -4\n",
       "4     1\n",
       "5     2\n",
       "Name: Andil, dtype: int64"
      ]
     },
     "execution_count": 38,
     "metadata": {},
     "output_type": "execute_result"
    }
   ],
   "source": [
    "y_new"
   ]
  },
  {
   "cell_type": "code",
   "execution_count": 39,
   "metadata": {},
   "outputs": [
    {
     "data": {
      "text/plain": [
       "PEMASANGAN TASPAT                           336\n",
       "MENGURANGI KELAMBATAN                       177\n",
       "LAMBAT DI STASIUN ANTARA                    149\n",
       "PEMINDAHAN PERSILANGAN                       14\n",
       "PENGISIAN BAHAN BAKAR                         8\n",
       "PEMINDAHAN PENYUSULAN                         8\n",
       "KA TIDAK TERTANJAK                            7\n",
       "LAMBAT DI STASIUN AWAL                        3\n",
       "PERSILANGAN/PENYUSULAN DENGAN KA REGULER      3\n",
       "PERSILANGAN/PENYUSULAN DENGAN KLB             2\n",
       "Name: Akibat, dtype: int64"
      ]
     },
     "execution_count": 39,
     "metadata": {},
     "output_type": "execute_result"
    }
   ],
   "source": [
    "df_c[\"Akibat\"].value_counts()"
   ]
  },
  {
   "cell_type": "code",
   "execution_count": 40,
   "metadata": {},
   "outputs": [
    {
     "data": {
      "text/plain": [
       "PEMASANGAN TASPAT (PRASARANA)                         236\n",
       "TAKTIS MASINIS                                        107\n",
       "TUNGGU PERSILANGAN                                     80\n",
       "TAKTIS PPKA                                            69\n",
       "PEKERJAAN JEMBATAN                                     67\n",
       "PENAMBAHAN HSD KERETA PEMBANGKIT DI STASIUN ANTARA     42\n",
       "GEOMETRI (JJ)                                          35\n",
       "TUNGGU PENYUSULAN                                      26\n",
       "PEMINDAHAN PERSILANGAN                                 19\n",
       "ALAM DAN EKSTERNALITAS                                  7\n",
       "ANJLOGAN (EKSTERNALITAS)                                4\n",
       "GARDAN SHAFT                                            4\n",
       "TUNGGU RANGKAIAN (ALAM DAN EKSTERNALITAS)               3\n",
       "GANGGUAN PENGEREMAN (KERETA)                            2\n",
       "TAMBAH/LEPAS LOK TRAKSI GANDA DI STASIUN ANTARA         2\n",
       "GANGGUAN SINYAL (PERSINYALAN ELEKTRIK)                  2\n",
       "ANTRIAN TIKET                                           1\n",
       "GANTI LOK DENGAN LOK CADANGAN DI STASIUN ANTARA         1\n",
       "Name: Penyebab, dtype: int64"
      ]
     },
     "execution_count": 40,
     "metadata": {},
     "output_type": "execute_result"
    }
   ],
   "source": [
    "df_c[\"Penyebab\"].value_counts()"
   ]
  },
  {
   "cell_type": "code",
   "execution_count": 41,
   "metadata": {},
   "outputs": [],
   "source": [
    "dt_Pe = df_c[df_c.Penyebab=='PEMASANGAN TASPAT (PRASARANA)']\n",
    "dt_M = df_c[df_c.Penyebab=='TUNGGU PERSILANGAN']\n",
    "#dt_L = df_c[df_c.Lokasi_2=='Bandung']\n",
    "dt_P = pd.concat([dt_Pe, dt_M])"
   ]
  },
  {
   "cell_type": "code",
   "execution_count": 42,
   "metadata": {},
   "outputs": [
    {
     "data": {
      "text/html": [
       "<div>\n",
       "<style scoped>\n",
       "    .dataframe tbody tr th:only-of-type {\n",
       "        vertical-align: middle;\n",
       "    }\n",
       "\n",
       "    .dataframe tbody tr th {\n",
       "        vertical-align: top;\n",
       "    }\n",
       "\n",
       "    .dataframe thead th {\n",
       "        text-align: right;\n",
       "    }\n",
       "</style>\n",
       "<table border=\"1\" class=\"dataframe\">\n",
       "  <thead>\n",
       "    <tr style=\"text-align: right;\">\n",
       "      <th></th>\n",
       "      <th>Penyebab</th>\n",
       "      <th>Akibat</th>\n",
       "      <th>Lokasi_1</th>\n",
       "      <th>Lokasi_2</th>\n",
       "      <th>Andil</th>\n",
       "      <th>Bulan Ke</th>\n",
       "      <th>Nama Hari</th>\n",
       "      <th>Minggu Ke</th>\n",
       "      <th>No Kereta</th>\n",
       "    </tr>\n",
       "  </thead>\n",
       "  <tbody>\n",
       "    <tr>\n",
       "      <td>4</td>\n",
       "      <td>PEMASANGAN TASPAT (PRASARANA)</td>\n",
       "      <td>PEMASANGAN TASPAT</td>\n",
       "      <td>Cikadongdong</td>\n",
       "      <td>Rendeh</td>\n",
       "      <td>1</td>\n",
       "      <td>2</td>\n",
       "      <td>5</td>\n",
       "      <td>5</td>\n",
       "      <td>396</td>\n",
       "    </tr>\n",
       "    <tr>\n",
       "      <td>8</td>\n",
       "      <td>PEMASANGAN TASPAT (PRASARANA)</td>\n",
       "      <td>PEMASANGAN TASPAT</td>\n",
       "      <td>Andir</td>\n",
       "      <td>Bandung</td>\n",
       "      <td>1</td>\n",
       "      <td>2</td>\n",
       "      <td>5</td>\n",
       "      <td>5</td>\n",
       "      <td>396</td>\n",
       "    </tr>\n",
       "    <tr>\n",
       "      <td>10</td>\n",
       "      <td>PEMASANGAN TASPAT (PRASARANA)</td>\n",
       "      <td>PEMASANGAN TASPAT</td>\n",
       "      <td>Bandung</td>\n",
       "      <td>Cikudapateuh</td>\n",
       "      <td>2</td>\n",
       "      <td>2</td>\n",
       "      <td>5</td>\n",
       "      <td>5</td>\n",
       "      <td>396</td>\n",
       "    </tr>\n",
       "    <tr>\n",
       "      <td>18</td>\n",
       "      <td>PEMASANGAN TASPAT (PRASARANA)</td>\n",
       "      <td>PEMASANGAN TASPAT</td>\n",
       "      <td>Rendeh</td>\n",
       "      <td>Maswati</td>\n",
       "      <td>1</td>\n",
       "      <td>2</td>\n",
       "      <td>6</td>\n",
       "      <td>5</td>\n",
       "      <td>396</td>\n",
       "    </tr>\n",
       "    <tr>\n",
       "      <td>20</td>\n",
       "      <td>PEMASANGAN TASPAT (PRASARANA)</td>\n",
       "      <td>PEMASANGAN TASPAT</td>\n",
       "      <td>Andir</td>\n",
       "      <td>Bandung</td>\n",
       "      <td>2</td>\n",
       "      <td>2</td>\n",
       "      <td>6</td>\n",
       "      <td>5</td>\n",
       "      <td>396</td>\n",
       "    </tr>\n",
       "    <tr>\n",
       "      <td>...</td>\n",
       "      <td>...</td>\n",
       "      <td>...</td>\n",
       "      <td>...</td>\n",
       "      <td>...</td>\n",
       "      <td>...</td>\n",
       "      <td>...</td>\n",
       "      <td>...</td>\n",
       "      <td>...</td>\n",
       "      <td>...</td>\n",
       "    </tr>\n",
       "    <tr>\n",
       "      <td>685</td>\n",
       "      <td>TUNGGU PERSILANGAN</td>\n",
       "      <td>LAMBAT DI STASIUN ANTARA</td>\n",
       "      <td>Sukatani</td>\n",
       "      <td>Sukatani</td>\n",
       "      <td>9</td>\n",
       "      <td>3</td>\n",
       "      <td>5</td>\n",
       "      <td>12</td>\n",
       "      <td>395</td>\n",
       "    </tr>\n",
       "    <tr>\n",
       "      <td>687</td>\n",
       "      <td>TUNGGU PERSILANGAN</td>\n",
       "      <td>LAMBAT DI STASIUN ANTARA</td>\n",
       "      <td>Karangsari</td>\n",
       "      <td>Karangsari</td>\n",
       "      <td>9</td>\n",
       "      <td>3</td>\n",
       "      <td>3</td>\n",
       "      <td>13</td>\n",
       "      <td>395</td>\n",
       "    </tr>\n",
       "    <tr>\n",
       "      <td>694</td>\n",
       "      <td>TUNGGU PERSILANGAN</td>\n",
       "      <td>LAMBAT DI STASIUN ANTARA</td>\n",
       "      <td>Rendeh</td>\n",
       "      <td>Rendeh</td>\n",
       "      <td>5</td>\n",
       "      <td>3</td>\n",
       "      <td>3</td>\n",
       "      <td>13</td>\n",
       "      <td>395</td>\n",
       "    </tr>\n",
       "    <tr>\n",
       "      <td>695</td>\n",
       "      <td>TUNGGU PERSILANGAN</td>\n",
       "      <td>LAMBAT DI STASIUN ANTARA</td>\n",
       "      <td>Sukatani</td>\n",
       "      <td>Sukatani</td>\n",
       "      <td>12</td>\n",
       "      <td>3</td>\n",
       "      <td>3</td>\n",
       "      <td>13</td>\n",
       "      <td>395</td>\n",
       "    </tr>\n",
       "    <tr>\n",
       "      <td>701</td>\n",
       "      <td>TUNGGU PERSILANGAN</td>\n",
       "      <td>LAMBAT DI STASIUN ANTARA</td>\n",
       "      <td>Padalarang</td>\n",
       "      <td>Padalarang</td>\n",
       "      <td>20</td>\n",
       "      <td>3</td>\n",
       "      <td>4</td>\n",
       "      <td>13</td>\n",
       "      <td>395</td>\n",
       "    </tr>\n",
       "  </tbody>\n",
       "</table>\n",
       "<p>316 rows × 9 columns</p>\n",
       "</div>"
      ],
      "text/plain": [
       "                          Penyebab                    Akibat      Lokasi_1  \\\n",
       "4    PEMASANGAN TASPAT (PRASARANA)         PEMASANGAN TASPAT  Cikadongdong   \n",
       "8    PEMASANGAN TASPAT (PRASARANA)         PEMASANGAN TASPAT         Andir   \n",
       "10   PEMASANGAN TASPAT (PRASARANA)         PEMASANGAN TASPAT       Bandung   \n",
       "18   PEMASANGAN TASPAT (PRASARANA)         PEMASANGAN TASPAT        Rendeh   \n",
       "20   PEMASANGAN TASPAT (PRASARANA)         PEMASANGAN TASPAT         Andir   \n",
       "..                             ...                       ...           ...   \n",
       "685             TUNGGU PERSILANGAN  LAMBAT DI STASIUN ANTARA      Sukatani   \n",
       "687             TUNGGU PERSILANGAN  LAMBAT DI STASIUN ANTARA    Karangsari   \n",
       "694             TUNGGU PERSILANGAN  LAMBAT DI STASIUN ANTARA        Rendeh   \n",
       "695             TUNGGU PERSILANGAN  LAMBAT DI STASIUN ANTARA      Sukatani   \n",
       "701             TUNGGU PERSILANGAN  LAMBAT DI STASIUN ANTARA    Padalarang   \n",
       "\n",
       "         Lokasi_2  Andil  Bulan Ke  Nama Hari  Minggu Ke  No Kereta  \n",
       "4          Rendeh      1         2          5          5        396  \n",
       "8         Bandung      1         2          5          5        396  \n",
       "10   Cikudapateuh      2         2          5          5        396  \n",
       "18        Maswati      1         2          6          5        396  \n",
       "20        Bandung      2         2          6          5        396  \n",
       "..            ...    ...       ...        ...        ...        ...  \n",
       "685      Sukatani      9         3          5         12        395  \n",
       "687    Karangsari      9         3          3         13        395  \n",
       "694        Rendeh      5         3          3         13        395  \n",
       "695      Sukatani     12         3          3         13        395  \n",
       "701    Padalarang     20         3          4         13        395  \n",
       "\n",
       "[316 rows x 9 columns]"
      ]
     },
     "execution_count": 42,
     "metadata": {},
     "output_type": "execute_result"
    }
   ],
   "source": [
    "dt_P"
   ]
  },
  {
   "cell_type": "code",
   "execution_count": 43,
   "metadata": {},
   "outputs": [],
   "source": [
    "train_set2, test_set2 = train_test_split(dt_P, test_size=0.2, random_state=42)\n",
    "\n",
    "x_train2 = train_set2.drop('Andil', axis = 1)\n",
    "y_train2 = train_set2.Andil\n",
    "\n",
    "x_test2 = test_set2.drop('Andil', axis = 1)\n",
    "y_test2 = test_set2.Andil"
   ]
  },
  {
   "cell_type": "code",
   "execution_count": 44,
   "metadata": {},
   "outputs": [
    {
     "data": {
      "text/plain": [
       "Pipeline(memory=None,\n",
       "         steps=[('columntransformer',\n",
       "                 ColumnTransformer(n_jobs=None, remainder='passthrough',\n",
       "                                   sparse_threshold=0.3,\n",
       "                                   transformer_weights=None,\n",
       "                                   transformers=[('onehotencoder',\n",
       "                                                  OneHotEncoder(categorical_features=None,\n",
       "                                                                categories=None,\n",
       "                                                                drop=None,\n",
       "                                                                dtype=<class 'numpy.float64'>,\n",
       "                                                                handle_unknown='ignore',\n",
       "                                                                n_values=None,\n",
       "                                                                sparse=False),\n",
       "                                                  ['Lokasi_1', 'Lokasi_2',...\n",
       "                                                                        max_depth=2,\n",
       "                                                                        max_features=None,\n",
       "                                                                        max_leaf_nodes=None,\n",
       "                                                                        min_impurity_decrease=0.0,\n",
       "                                                                        min_impurity_split=None,\n",
       "                                                                        min_samples_leaf=1,\n",
       "                                                                        min_samples_split=2,\n",
       "                                                                        min_weight_fraction_leaf=0.0,\n",
       "                                                                        n_estimators=120,\n",
       "                                                                        n_iter_no_change=None,\n",
       "                                                                        presort='auto',\n",
       "                                                                        random_state=42,\n",
       "                                                                        subsample=1.0,\n",
       "                                                                        tol=0.0001,\n",
       "                                                                        validation_fraction=0.1,\n",
       "                                                                        verbose=0,\n",
       "                                                                        warm_start=False))],\n",
       "                                 n_jobs=None, weights=None))],\n",
       "         verbose=False)"
      ]
     },
     "execution_count": 44,
     "metadata": {},
     "output_type": "execute_result"
    }
   ],
   "source": [
    "pipe10 = make_pipeline(column_trans, voting_clf)\n",
    "pipe10.fit(x_train2, y_train2)"
   ]
  },
  {
   "cell_type": "code",
   "execution_count": 45,
   "metadata": {},
   "outputs": [
    {
     "data": {
      "text/plain": [
       "0.5580085849611112"
      ]
     },
     "execution_count": 45,
     "metadata": {},
     "output_type": "execute_result"
    }
   ],
   "source": [
    "from sklearn.model_selection import cross_val_score\n",
    "cv_scores = cross_val_score(pipe10,x_train2,y_train2,cv=5)\n",
    "cv_scores.mean()"
   ]
  },
  {
   "cell_type": "code",
   "execution_count": 46,
   "metadata": {},
   "outputs": [
    {
     "data": {
      "text/plain": [
       "2.3748699577895276"
      ]
     },
     "execution_count": 46,
     "metadata": {},
     "output_type": "execute_result"
    }
   ],
   "source": [
    "y_pred2 = pipe10.predict(x_test2)\n",
    "from sklearn.metrics import mean_squared_error\n",
    "tree_mse2 = mean_squared_error(y_test2, y_pred2)\n",
    "tree_rmse2 = np.sqrt(tree_mse2)\n",
    "tree_rmse2"
   ]
  },
  {
   "cell_type": "code",
   "execution_count": 47,
   "metadata": {},
   "outputs": [
    {
     "data": {
      "text/plain": [
       "5.640007316411232"
      ]
     },
     "execution_count": 47,
     "metadata": {},
     "output_type": "execute_result"
    }
   ],
   "source": [
    "tree_mse2"
   ]
  },
  {
   "cell_type": "code",
   "execution_count": 48,
   "metadata": {},
   "outputs": [
    {
     "data": {
      "text/plain": [
       "array([ 1.88145756,  1.01046871,  1.08655551,  1.89810386,  1.08937006,\n",
       "        8.0255884 ,  1.90181184,  1.21457594,  1.79521043,  1.73694213,\n",
       "        1.67265859,  1.08802228,  0.95149479,  1.91045847,  1.01295617,\n",
       "        2.76757184,  1.78130024,  1.48676754,  1.69015843,  1.15497852,\n",
       "        1.79868487,  2.36165804,  1.73167099,  9.2528805 , 10.41681855,\n",
       "        3.64123969,  1.91094054,  8.77367607,  0.9571506 ,  9.31511907,\n",
       "        6.15190786,  3.65223024,  1.84566558, 11.10685329,  6.86397354,\n",
       "       11.26989342,  1.76816364,  1.05886806,  8.45483937,  1.92998209,\n",
       "        1.20472163,  1.81934582,  0.97107423,  1.03202502,  1.67092417,\n",
       "        1.0874914 ,  1.26657117,  1.16257071,  6.6164207 ,  1.87798771,\n",
       "        1.0767124 ,  1.00609727,  0.92655983,  1.76166765,  1.89587214,\n",
       "        1.72011294,  9.58557434,  1.99294384,  8.20807996,  1.73342365,\n",
       "       11.19231605,  1.07004618,  1.08045151,  1.79194198])"
      ]
     },
     "execution_count": 48,
     "metadata": {},
     "output_type": "execute_result"
    }
   ],
   "source": [
    "np.savetxt(\"y_pred2.csv\", y_pred2, delimiter=\",\", fmt=\"%s\")\n",
    "y_pred2"
   ]
  },
  {
   "cell_type": "code",
   "execution_count": 49,
   "metadata": {},
   "outputs": [
    {
     "data": {
      "text/plain": [
       "535    2\n",
       "114    1\n",
       "508    1\n",
       "241    1\n",
       "281    1\n",
       "Name: Andil, dtype: int64"
      ]
     },
     "execution_count": 49,
     "metadata": {},
     "output_type": "execute_result"
    }
   ],
   "source": [
    "np.savetxt(\"y_test2.csv\", y_test2, delimiter=\",\", fmt=\"%s\")\n",
    "y_test2.head()"
   ]
  },
  {
   "cell_type": "code",
   "execution_count": 50,
   "metadata": {},
   "outputs": [
    {
     "data": {
      "text/plain": [
       "count    64.000000\n",
       "mean      3.093750\n",
       "std       4.050157\n",
       "min      -8.000000\n",
       "25%       1.000000\n",
       "50%       2.000000\n",
       "75%       2.000000\n",
       "max      19.000000\n",
       "Name: Andil, dtype: float64"
      ]
     },
     "execution_count": 50,
     "metadata": {},
     "output_type": "execute_result"
    }
   ],
   "source": [
    "y_test2.describe()"
   ]
  },
  {
   "cell_type": "code",
   "execution_count": 51,
   "metadata": {},
   "outputs": [
    {
     "data": {
      "text/plain": [
       "535    2\n",
       "114    1\n",
       "508    1\n",
       "241    1\n",
       "281    1\n",
       "Name: Andil, dtype: int64"
      ]
     },
     "execution_count": 51,
     "metadata": {},
     "output_type": "execute_result"
    }
   ],
   "source": [
    "y_test2.head()"
   ]
  },
  {
   "cell_type": "code",
   "execution_count": 52,
   "metadata": {},
   "outputs": [
    {
     "data": {
      "text/plain": [
       "1.1688811767242697"
      ]
     },
     "execution_count": 52,
     "metadata": {},
     "output_type": "execute_result"
    }
   ],
   "source": [
    "from sklearn.metrics import mean_absolute_error\n",
    "\n",
    "lin_mae2 = mean_absolute_error(y_test2, y_pred2)\n",
    "lin_mae2"
   ]
  },
  {
   "cell_type": "code",
   "execution_count": 53,
   "metadata": {},
   "outputs": [
    {
     "data": {
      "text/plain": [
       "array([1.8013654 , 2.83462473])"
      ]
     },
     "execution_count": 53,
     "metadata": {},
     "output_type": "execute_result"
    }
   ],
   "source": [
    "from scipy import stats\n",
    "confidence = 0.68\n",
    "squared_errors = (y_pred2 - y_test2) ** 2\n",
    "mean = squared_errors.mean()\n",
    "m = len(squared_errors)\n",
    "\n",
    "np.sqrt(stats.t.interval(confidence, m - 1,\n",
    "                         loc=np.mean(squared_errors),\n",
    "                         scale=stats.sem(squared_errors)))"
   ]
  },
  {
   "cell_type": "code",
   "execution_count": 54,
   "metadata": {},
   "outputs": [
    {
     "data": {
      "text/plain": [
       "array([0.93011459, 3.22721265])"
      ]
     },
     "execution_count": 54,
     "metadata": {},
     "output_type": "execute_result"
    }
   ],
   "source": [
    "confidence = 0.95\n",
    "squared_errors = (y_pred2 - y_test2) ** 2\n",
    "mean = squared_errors.mean()\n",
    "m = len(squared_errors)\n",
    "\n",
    "np.sqrt(stats.t.interval(confidence, m - 1,\n",
    "                         loc=np.mean(squared_errors),\n",
    "                         scale=stats.sem(squared_errors)))"
   ]
  },
  {
   "cell_type": "code",
   "execution_count": null,
   "metadata": {},
   "outputs": [],
   "source": []
  },
  {
   "cell_type": "code",
   "execution_count": null,
   "metadata": {},
   "outputs": [],
   "source": []
  }
 ],
 "metadata": {
  "kernelspec": {
   "display_name": "Python 3",
   "language": "python",
   "name": "python3"
  },
  "language_info": {
   "codemirror_mode": {
    "name": "ipython",
    "version": 3
   },
   "file_extension": ".py",
   "mimetype": "text/x-python",
   "name": "python",
   "nbconvert_exporter": "python",
   "pygments_lexer": "ipython3",
   "version": "3.7.4"
  }
 },
 "nbformat": 4,
 "nbformat_minor": 2
}
