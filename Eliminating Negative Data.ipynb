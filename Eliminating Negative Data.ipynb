{
 "cells": [
  {
   "cell_type": "code",
   "execution_count": 1,
   "metadata": {},
   "outputs": [],
   "source": [
    "%matplotlib inline\n",
    "import matplotlib.pyplot as plt\n",
    "import pandas as pd\n",
    "import numpy as np\n",
    "df_out=pd.read_csv('out_395.csv', sep=',',header=0)\n",
    "df_no_minus = df_out\n"
   ]
  },
  {
   "cell_type": "code",
   "execution_count": 2,
   "metadata": {},
   "outputs": [
    {
     "data": {
      "text/html": [
       "<div>\n",
       "<style scoped>\n",
       "    .dataframe tbody tr th:only-of-type {\n",
       "        vertical-align: middle;\n",
       "    }\n",
       "\n",
       "    .dataframe tbody tr th {\n",
       "        vertical-align: top;\n",
       "    }\n",
       "\n",
       "    .dataframe thead th {\n",
       "        text-align: right;\n",
       "    }\n",
       "</style>\n",
       "<table border=\"1\" class=\"dataframe\">\n",
       "  <thead>\n",
       "    <tr style=\"text-align: right;\">\n",
       "      <th></th>\n",
       "      <th># No</th>\n",
       "      <th>Tanggal</th>\n",
       "      <th>Penyebab</th>\n",
       "      <th>Akibat</th>\n",
       "      <th>Lokasi 1</th>\n",
       "      <th>Lokasi 2</th>\n",
       "      <th>Andil</th>\n",
       "      <th>No Kereta</th>\n",
       "      <th>Bulan Ke</th>\n",
       "      <th>Hari Ke</th>\n",
       "      <th>Nama Hari</th>\n",
       "      <th>Minggu Ke</th>\n",
       "      <th>Andil2</th>\n",
       "      <th>Andil3</th>\n",
       "    </tr>\n",
       "  </thead>\n",
       "  <tbody>\n",
       "    <tr>\n",
       "      <td>0</td>\n",
       "      <td>1</td>\n",
       "      <td>2019-02-02 00:00:00</td>\n",
       "      <td>ANTRIAN TIKET</td>\n",
       "      <td>LAMBAT DI STASIUN AWAL</td>\n",
       "      <td>Purwakarta</td>\n",
       "      <td>Purwakarta</td>\n",
       "      <td>25</td>\n",
       "      <td>395</td>\n",
       "      <td>2</td>\n",
       "      <td>2</td>\n",
       "      <td>5</td>\n",
       "      <td>5</td>\n",
       "      <td>25</td>\n",
       "      <td>25</td>\n",
       "    </tr>\n",
       "    <tr>\n",
       "      <td>1</td>\n",
       "      <td>2</td>\n",
       "      <td>2019-02-02 00:00:00</td>\n",
       "      <td>TAKTIS MASINIS</td>\n",
       "      <td>MENGURANGI KELAMBATAN</td>\n",
       "      <td>Sukatani</td>\n",
       "      <td>Plered</td>\n",
       "      <td>-5</td>\n",
       "      <td>395</td>\n",
       "      <td>2</td>\n",
       "      <td>2</td>\n",
       "      <td>5</td>\n",
       "      <td>5</td>\n",
       "      <td>20</td>\n",
       "      <td>25</td>\n",
       "    </tr>\n",
       "    <tr>\n",
       "      <td>2</td>\n",
       "      <td>3</td>\n",
       "      <td>2019-02-02 00:00:00</td>\n",
       "      <td>TAKTIS MASINIS</td>\n",
       "      <td>MENGURANGI KELAMBATAN</td>\n",
       "      <td>Cisomang</td>\n",
       "      <td>Cikadongdong</td>\n",
       "      <td>-4</td>\n",
       "      <td>395</td>\n",
       "      <td>2</td>\n",
       "      <td>2</td>\n",
       "      <td>5</td>\n",
       "      <td>5</td>\n",
       "      <td>16</td>\n",
       "      <td>20</td>\n",
       "    </tr>\n",
       "    <tr>\n",
       "      <td>3</td>\n",
       "      <td>4</td>\n",
       "      <td>2019-02-02 00:00:00</td>\n",
       "      <td>TAKTIS PPKA</td>\n",
       "      <td>MENGURANGI KELAMBATAN</td>\n",
       "      <td>Cikadongdong</td>\n",
       "      <td>Cikadongdong</td>\n",
       "      <td>-4</td>\n",
       "      <td>395</td>\n",
       "      <td>2</td>\n",
       "      <td>2</td>\n",
       "      <td>5</td>\n",
       "      <td>5</td>\n",
       "      <td>12</td>\n",
       "      <td>16</td>\n",
       "    </tr>\n",
       "    <tr>\n",
       "      <td>4</td>\n",
       "      <td>5</td>\n",
       "      <td>2019-02-02 00:00:00</td>\n",
       "      <td>PEMASANGAN TASPAT (PRASARANA)</td>\n",
       "      <td>PEMASANGAN TASPAT</td>\n",
       "      <td>Cikadongdong</td>\n",
       "      <td>Rendeh</td>\n",
       "      <td>1</td>\n",
       "      <td>395</td>\n",
       "      <td>2</td>\n",
       "      <td>2</td>\n",
       "      <td>5</td>\n",
       "      <td>5</td>\n",
       "      <td>13</td>\n",
       "      <td>12</td>\n",
       "    </tr>\n",
       "  </tbody>\n",
       "</table>\n",
       "</div>"
      ],
      "text/plain": [
       "   # No              Tanggal                       Penyebab  \\\n",
       "0     1  2019-02-02 00:00:00                  ANTRIAN TIKET   \n",
       "1     2  2019-02-02 00:00:00                 TAKTIS MASINIS   \n",
       "2     3  2019-02-02 00:00:00                 TAKTIS MASINIS   \n",
       "3     4  2019-02-02 00:00:00                    TAKTIS PPKA   \n",
       "4     5  2019-02-02 00:00:00  PEMASANGAN TASPAT (PRASARANA)   \n",
       "\n",
       "                   Akibat      Lokasi 1      Lokasi 2  Andil  No Kereta  \\\n",
       "0  LAMBAT DI STASIUN AWAL    Purwakarta    Purwakarta     25        395   \n",
       "1   MENGURANGI KELAMBATAN      Sukatani        Plered     -5        395   \n",
       "2   MENGURANGI KELAMBATAN      Cisomang  Cikadongdong     -4        395   \n",
       "3   MENGURANGI KELAMBATAN  Cikadongdong  Cikadongdong     -4        395   \n",
       "4       PEMASANGAN TASPAT  Cikadongdong        Rendeh      1        395   \n",
       "\n",
       "   Bulan Ke  Hari Ke  Nama Hari  Minggu Ke  Andil2  Andil3  \n",
       "0         2        2          5          5      25      25  \n",
       "1         2        2          5          5      20      25  \n",
       "2         2        2          5          5      16      20  \n",
       "3         2        2          5          5      12      16  \n",
       "4         2        2          5          5      13      12  "
      ]
     },
     "execution_count": 2,
     "metadata": {},
     "output_type": "execute_result"
    }
   ],
   "source": [
    "df_no_minus.head()"
   ]
  },
  {
   "cell_type": "code",
   "execution_count": 3,
   "metadata": {},
   "outputs": [],
   "source": [
    "j=0\n",
    "while (j < len(df_no_minus)):\n",
    "    if(df_no_minus.Andil[j] < 0):\n",
    "        df_no_minus.drop([j], axis=0, inplace=True)\n",
    "    j+=1"
   ]
  },
  {
   "cell_type": "code",
   "execution_count": 4,
   "metadata": {},
   "outputs": [],
   "source": [
    "from sklearn.preprocessing import OrdinalEncoder\n",
    "train_cat = df_out[['Lokasi 2']]\n",
    "ordinal_encoder = OrdinalEncoder()\n",
    "train_cat_encoded = ordinal_encoder.fit_transform(train_cat)\n",
    "train_cat_encoded[:10]\n",
    "df_out['Encoded_Lokasi_2'] = train_cat_encoded"
   ]
  },
  {
   "cell_type": "code",
   "execution_count": 5,
   "metadata": {},
   "outputs": [
    {
     "data": {
      "text/html": [
       "<div>\n",
       "<style scoped>\n",
       "    .dataframe tbody tr th:only-of-type {\n",
       "        vertical-align: middle;\n",
       "    }\n",
       "\n",
       "    .dataframe tbody tr th {\n",
       "        vertical-align: top;\n",
       "    }\n",
       "\n",
       "    .dataframe thead th {\n",
       "        text-align: right;\n",
       "    }\n",
       "</style>\n",
       "<table border=\"1\" class=\"dataframe\">\n",
       "  <thead>\n",
       "    <tr style=\"text-align: right;\">\n",
       "      <th></th>\n",
       "      <th># No</th>\n",
       "      <th>Andil</th>\n",
       "      <th>No Kereta</th>\n",
       "      <th>Bulan Ke</th>\n",
       "      <th>Hari Ke</th>\n",
       "      <th>Nama Hari</th>\n",
       "      <th>Minggu Ke</th>\n",
       "      <th>Andil2</th>\n",
       "      <th>Andil3</th>\n",
       "      <th>Encoded_Lokasi_2</th>\n",
       "    </tr>\n",
       "  </thead>\n",
       "  <tbody>\n",
       "    <tr>\n",
       "      <td>count</td>\n",
       "      <td>286.000000</td>\n",
       "      <td>286.000000</td>\n",
       "      <td>286.0</td>\n",
       "      <td>286.000000</td>\n",
       "      <td>286.000000</td>\n",
       "      <td>286.000000</td>\n",
       "      <td>286.000000</td>\n",
       "      <td>286.000000</td>\n",
       "      <td>286.000000</td>\n",
       "      <td>286.000000</td>\n",
       "    </tr>\n",
       "    <tr>\n",
       "      <td>mean</td>\n",
       "      <td>187.472028</td>\n",
       "      <td>4.419580</td>\n",
       "      <td>395.0</td>\n",
       "      <td>2.538462</td>\n",
       "      <td>13.856643</td>\n",
       "      <td>3.076923</td>\n",
       "      <td>9.122378</td>\n",
       "      <td>12.604895</td>\n",
       "      <td>8.653846</td>\n",
       "      <td>6.863636</td>\n",
       "    </tr>\n",
       "    <tr>\n",
       "      <td>std</td>\n",
       "      <td>102.522009</td>\n",
       "      <td>7.671238</td>\n",
       "      <td>0.0</td>\n",
       "      <td>0.499392</td>\n",
       "      <td>7.910269</td>\n",
       "      <td>2.109550</td>\n",
       "      <td>2.343125</td>\n",
       "      <td>12.866978</td>\n",
       "      <td>10.758062</td>\n",
       "      <td>5.196383</td>\n",
       "    </tr>\n",
       "    <tr>\n",
       "      <td>min</td>\n",
       "      <td>1.000000</td>\n",
       "      <td>-25.000000</td>\n",
       "      <td>395.0</td>\n",
       "      <td>2.000000</td>\n",
       "      <td>2.000000</td>\n",
       "      <td>0.000000</td>\n",
       "      <td>5.000000</td>\n",
       "      <td>-2.000000</td>\n",
       "      <td>-4.000000</td>\n",
       "      <td>0.000000</td>\n",
       "    </tr>\n",
       "    <tr>\n",
       "      <td>25%</td>\n",
       "      <td>101.250000</td>\n",
       "      <td>1.000000</td>\n",
       "      <td>395.0</td>\n",
       "      <td>2.000000</td>\n",
       "      <td>7.000000</td>\n",
       "      <td>1.000000</td>\n",
       "      <td>7.000000</td>\n",
       "      <td>4.000000</td>\n",
       "      <td>2.000000</td>\n",
       "      <td>2.000000</td>\n",
       "    </tr>\n",
       "    <tr>\n",
       "      <td>50%</td>\n",
       "      <td>184.500000</td>\n",
       "      <td>2.000000</td>\n",
       "      <td>395.0</td>\n",
       "      <td>3.000000</td>\n",
       "      <td>14.000000</td>\n",
       "      <td>3.000000</td>\n",
       "      <td>9.000000</td>\n",
       "      <td>8.000000</td>\n",
       "      <td>5.000000</td>\n",
       "      <td>5.000000</td>\n",
       "    </tr>\n",
       "    <tr>\n",
       "      <td>75%</td>\n",
       "      <td>282.750000</td>\n",
       "      <td>6.000000</td>\n",
       "      <td>395.0</td>\n",
       "      <td>3.000000</td>\n",
       "      <td>19.000000</td>\n",
       "      <td>5.000000</td>\n",
       "      <td>11.000000</td>\n",
       "      <td>18.000000</td>\n",
       "      <td>11.000000</td>\n",
       "      <td>12.000000</td>\n",
       "    </tr>\n",
       "    <tr>\n",
       "      <td>max</td>\n",
       "      <td>354.000000</td>\n",
       "      <td>41.000000</td>\n",
       "      <td>395.0</td>\n",
       "      <td>3.000000</td>\n",
       "      <td>31.000000</td>\n",
       "      <td>6.000000</td>\n",
       "      <td>13.000000</td>\n",
       "      <td>71.000000</td>\n",
       "      <td>69.000000</td>\n",
       "      <td>17.000000</td>\n",
       "    </tr>\n",
       "  </tbody>\n",
       "</table>\n",
       "</div>"
      ],
      "text/plain": [
       "             # No       Andil  No Kereta    Bulan Ke     Hari Ke   Nama Hari  \\\n",
       "count  286.000000  286.000000      286.0  286.000000  286.000000  286.000000   \n",
       "mean   187.472028    4.419580      395.0    2.538462   13.856643    3.076923   \n",
       "std    102.522009    7.671238        0.0    0.499392    7.910269    2.109550   \n",
       "min      1.000000  -25.000000      395.0    2.000000    2.000000    0.000000   \n",
       "25%    101.250000    1.000000      395.0    2.000000    7.000000    1.000000   \n",
       "50%    184.500000    2.000000      395.0    3.000000   14.000000    3.000000   \n",
       "75%    282.750000    6.000000      395.0    3.000000   19.000000    5.000000   \n",
       "max    354.000000   41.000000      395.0    3.000000   31.000000    6.000000   \n",
       "\n",
       "        Minggu Ke      Andil2      Andil3  Encoded_Lokasi_2  \n",
       "count  286.000000  286.000000  286.000000        286.000000  \n",
       "mean     9.122378   12.604895    8.653846          6.863636  \n",
       "std      2.343125   12.866978   10.758062          5.196383  \n",
       "min      5.000000   -2.000000   -4.000000          0.000000  \n",
       "25%      7.000000    4.000000    2.000000          2.000000  \n",
       "50%      9.000000    8.000000    5.000000          5.000000  \n",
       "75%     11.000000   18.000000   11.000000         12.000000  \n",
       "max     13.000000   71.000000   69.000000         17.000000  "
      ]
     },
     "execution_count": 5,
     "metadata": {},
     "output_type": "execute_result"
    }
   ],
   "source": [
    "df_no_minus.describe()"
   ]
  },
  {
   "cell_type": "code",
   "execution_count": 6,
   "metadata": {
    "scrolled": true
   },
   "outputs": [
    {
     "data": {
      "image/png": "[encoded data removed]",
      "text/plain": [
       "<Figure size 1440x1080 with 12 Axes>"
      ]
     },
     "metadata": {
      "needs_background": "light"
     },
     "output_type": "display_data"
    }
   ],
   "source": [
    "%matplotlib inline\n",
    "import matplotlib.pyplot as plt\n",
    "df_no_minus.hist(bins=50, figsize=(20,15))\n",
    "plt.show()"
   ]
  },
  {
   "cell_type": "code",
   "execution_count": 7,
   "metadata": {},
   "outputs": [
    {
     "data": {
      "text/plain": [
       "<matplotlib.axes._subplots.AxesSubplot at 0x12ef7d08>"
      ]
     },
     "execution_count": 7,
     "metadata": {},
     "output_type": "execute_result"
    },
    {
     "data": {
      "image/png": "[encoded data removed]",
      "text/plain": [
       "<Figure size 432x288 with 1 Axes>"
      ]
     },
     "metadata": {
      "needs_background": "light"
     },
     "output_type": "display_data"
    }
   ],
   "source": [
    "df_no_minus[\"Encoded_Lokasi_2\"].hist()\n"
   ]
  },
  {
   "cell_type": "code",
   "execution_count": 8,
   "metadata": {},
   "outputs": [
    {
     "data": {
      "text/plain": [
       "14.0    48\n",
       "2.0     41\n",
       "0.0     37\n",
       "5.0     36\n",
       "4.0     33\n",
       "11.0    29\n",
       "12.0    10\n",
       "15.0     9\n",
       "9.0      7\n",
       "3.0      7\n",
       "10.0     7\n",
       "1.0      5\n",
       "6.0      5\n",
       "8.0      3\n",
       "7.0      3\n",
       "13.0     3\n",
       "17.0     2\n",
       "16.0     1\n",
       "Name: Encoded_Lokasi_2, dtype: int64"
      ]
     },
     "execution_count": 8,
     "metadata": {},
     "output_type": "execute_result"
    }
   ],
   "source": [
    "df_no_minus[\"Encoded_Lokasi_2\"].value_counts()"
   ]
  },
  {
   "cell_type": "code",
   "execution_count": 9,
   "metadata": {},
   "outputs": [
    {
     "data": {
      "text/plain": [
       "[array(['Bandung', 'Cibatu', 'Cicalengka', 'Cikadongdong', 'Cikudapateuh',\n",
       "        'Cilame', 'Cimekar', 'Gedebage', 'Haurpugur', 'Kiaracondong',\n",
       "        'Leles', 'Maswati', 'Nagreg', 'Purwakarta', 'Rancaekek', 'Rendeh',\n",
       "        'Sasaksaat', 'Sukatani'], dtype=object)]"
      ]
     },
     "execution_count": 9,
     "metadata": {},
     "output_type": "execute_result"
    }
   ],
   "source": [
    "ordinal_encoder.categories_"
   ]
  },
  {
   "cell_type": "code",
   "execution_count": null,
   "metadata": {},
   "outputs": [],
   "source": []
  }
 ],
 "metadata": {
  "kernelspec": {
   "display_name": "Python 3",
   "language": "python",
   "name": "python3"
  },
  "language_info": {
   "codemirror_mode": {
    "name": "ipython",
    "version": 3
   },
   "file_extension": ".py",
   "mimetype": "text/x-python",
   "name": "python",
   "nbconvert_exporter": "python",
   "pygments_lexer": "ipython3",
   "version": "3.7.4"
  }
 },
 "nbformat": 4,
 "nbformat_minor": 2
}
